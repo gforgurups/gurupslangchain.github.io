{
  "nbformat": 4,
  "nbformat_minor": 0,
  "metadata": {
    "colab": {
      "provenance": [],
      "authorship_tag": "ABX9TyORnhihhAoWbmCq+a3wcyTV",
      "include_colab_link": true
    },
    "kernelspec": {
      "name": "python3",
      "display_name": "Python 3"
    },
    "language_info": {
      "name": "python"
    }
  },
  "cells": [
    {
      "cell_type": "markdown",
      "metadata": {
        "id": "view-in-github",
        "colab_type": "text"
      },
      "source": [
        "<a href=\"https://colab.research.google.com/github/gforgurups/gurupslangchain.github.io/blob/main/OpenAI_CodeComments_Generator.ipynb\" target=\"_parent\"><img src=\"https://colab.research.google.com/assets/colab-badge.svg\" alt=\"Open In Colab\"/></a>"
      ]
    },
    {
      "cell_type": "code",
      "execution_count": null,
      "metadata": {
        "id": "FUEE8Sg2aNp9"
      },
      "outputs": [],
      "source": [
        "!pip install openai==0.28"
      ]
    },
    {
      "cell_type": "code",
      "source": [
        "import os\n",
        "import openai"
      ],
      "metadata": {
        "id": "OTsNS3Wda7dD"
      },
      "execution_count": 2,
      "outputs": []
    },
    {
      "cell_type": "code",
      "source": [
        "#os.environ['OPENAI_API_KEY'] = ''\n",
        "openai.api_key=os.getenv(\"OPENAI_API_KEY\")"
      ],
      "metadata": {
        "id": "oNl_WT3lacTD"
      },
      "execution_count": 3,
      "outputs": []
    },
    {
      "cell_type": "code",
      "source": [
        "def docstring_prompt(code):\n",
        "  prompt =f\"{code}\\n # A high quality python docstring of the above Python function:\\n \\\"\\\"\\\"\"\n",
        "  return prompt\n"
      ],
      "metadata": {
        "id": "hOIozKz6bAH6"
      },
      "execution_count": 4,
      "outputs": []
    },
    {
      "cell_type": "code",
      "source": [
        "def print_hello(name):\n",
        "  print(f\"Hello {name}\")"
      ],
      "metadata": {
        "id": "Kq6YnQVxq88W"
      },
      "execution_count": 5,
      "outputs": []
    },
    {
      "cell_type": "code",
      "source": [
        "import inspect\n",
        "code = inspect.getsource(print_hello)"
      ],
      "metadata": {
        "id": "NTTJw9JDq1c3"
      },
      "execution_count": 10,
      "outputs": []
    },
    {
      "cell_type": "code",
      "source": [
        "print(docstring_prompt(code))"
      ],
      "metadata": {
        "colab": {
          "base_uri": "https://localhost:8080/"
        },
        "id": "a_DaTV0drE_j",
        "outputId": "dda349b4-8905-4d12-ab71-a16ede8fe459"
      },
      "execution_count": 11,
      "outputs": [
        {
          "output_type": "stream",
          "name": "stdout",
          "text": [
            "def print_hello(name):\n",
            "  print(f\"Hello {name}\")\n",
            "\n",
            " # A high quality python docstring of the above Python function:\n",
            " \"\"\"\n"
          ]
        }
      ]
    },
    {
      "cell_type": "code",
      "source": [
        "response = openai.Completion.create(model='text-davinci-003',\n",
        "                                    prompt=docstring_prompt(code),\n",
        "                                    temperature=0,\n",
        "                                    max_tokens=300,\n",
        "                                    stop=[\"\\\"\\\"\\\"\"])"
      ],
      "metadata": {
        "id": "_5oUSbYor4gk"
      },
      "execution_count": 16,
      "outputs": []
    },
    {
      "cell_type": "code",
      "source": [
        "comments = response['choices'][0]['text']"
      ],
      "metadata": {
        "id": "NbuV4C1ite25"
      },
      "execution_count": 21,
      "outputs": []
    },
    {
      "cell_type": "code",
      "source": [
        "code"
      ],
      "metadata": {
        "colab": {
          "base_uri": "https://localhost:8080/",
          "height": 36
        },
        "id": "kYXIybpYtnAz",
        "outputId": "18608b83-7e86-43b7-baf8-639b5edabcf2"
      },
      "execution_count": 18,
      "outputs": [
        {
          "output_type": "execute_result",
          "data": {
            "text/plain": [
              "'def print_hello(name):\\n  print(f\"Hello {name}\")\\n'"
            ],
            "application/vnd.google.colaboratory.intrinsic+json": {
              "type": "string"
            }
          },
          "metadata": {},
          "execution_count": 18
        }
      ]
    },
    {
      "cell_type": "code",
      "source": [
        "codeParts = code.split(\"\\n\")\n",
        "finalCode = codeParts[0]+\"\\n\"+\"\\\"\\\"\\\"\"+comments+\"\\n\\\"\\\"\\\" \\n\" + codeParts[1]"
      ],
      "metadata": {
        "id": "ujpHZKzqvqzh"
      },
      "execution_count": 34,
      "outputs": []
    },
    {
      "cell_type": "code",
      "source": [
        "print(finalCode)"
      ],
      "metadata": {
        "colab": {
          "base_uri": "https://localhost:8080/"
        },
        "id": "oM3EZIZMwTge",
        "outputId": "ef26cefa-a293-4112-82cf-ab1fd5c6d19e"
      },
      "execution_count": 35,
      "outputs": [
        {
          "output_type": "stream",
          "name": "stdout",
          "text": [
            "def print_hello(name):\n",
            "\"\"\"\n",
            "Prints a greeting to the given name.\n",
            "\n",
            "Parameters:\n",
            "name (str): The name of the person to greet.\n",
            "\n",
            "Returns:\n",
            "None\n",
            " \n",
            "\"\"\" \n",
            "  print(f\"Hello {name}\")\n"
          ]
        }
      ]
    },
    {
      "cell_type": "code",
      "source": [],
      "metadata": {
        "id": "7IcJH_PZwg4F"
      },
      "execution_count": null,
      "outputs": []
    }
  ]
}