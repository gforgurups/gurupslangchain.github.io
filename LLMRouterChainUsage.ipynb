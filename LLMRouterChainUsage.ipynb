{
  "nbformat": 4,
  "nbformat_minor": 0,
  "metadata": {
    "colab": {
      "provenance": []
    },
    "kernelspec": {
      "name": "python3",
      "display_name": "Python 3"
    },
    "language_info": {
      "name": "python"
    }
  },
  "cells": [
    {
      "cell_type": "markdown",
      "source": [
        "We need a Bot to handle Technical questons related to various different areas such as ML, Java, C# etc. and each area should be handled by different LLMs. Bot should be able answer questions in simple or advanced terms depending on user's backgroud\n",
        " - To solve this we may have to use LLMRouterChain\n",
        " - As first iteration just take care of Machine Learing area\n",
        " - Workflow - INPUT --> ROUTER --> ROUTER DECIDES CHAIN --> CHAIN --> OUTPUT  \n",
        "\n",
        ""
      ],
      "metadata": {
        "id": "wRMGzU5enzd7"
      }
    },
    {
      "cell_type": "code",
      "execution_count": null,
      "metadata": {
        "id": "r8QgXkI6kHq0"
      },
      "outputs": [],
      "source": [
        "!pip install openai\n",
        "!pip install --upgrade langchain"
      ]
    },
    {
      "cell_type": "code",
      "source": [
        "import langchain\n",
        "from langchain.llms import OpenAI\n",
        "from langchain.chat_models import ChatOpenAI\n",
        "from langchain.schema import AIMessage, HumanMessage, SystemMessage\n",
        "from langchain.prompts import PromptTemplate, ChatPromptTemplate, HumanMessagePromptTemplate, SystemMessagePromptTemplate, AIMessagePromptTemplate\n",
        "from langchain.chains import SequentialChain, LLMChain\n",
        "import os\n",
        "chat_llm = ChatOpenAI()"
      ],
      "metadata": {
        "id": "IkedcwjokVjl"
      },
      "execution_count": null,
      "outputs": []
    },
    {
      "cell_type": "code",
      "source": [
        "ml_simple_template = '''You are a Machine Learning expert who is really focused on beginners and explain complex concepts in simple to understand terms. You assume to prior knowledge. Here is your question:\\n{input}'''"
      ],
      "metadata": {
        "id": "VlhUee8Do8pD"
      },
      "execution_count": null,
      "outputs": []
    },
    {
      "cell_type": "code",
      "source": [
        "ml_advanced_template = '''You are a Machine Learning expert who explain machine learing concepts to advanced audience members. You can assume anyone you answer has expert knowledge in Machine Learning. Here is your question:\\n{input}'''"
      ],
      "metadata": {
        "id": "TDH_ElHPpf6m"
      },
      "execution_count": null,
      "outputs": []
    },
    {
      "cell_type": "code",
      "source": [
        "prompt_infos =[\n",
        "    {\n",
        "        'name': 'beginner Machine Learning',\n",
        "        'description': 'Answers basic Machine Learning questions',\n",
        "        'template': ml_simple_template\n",
        "    },\n",
        "\n",
        "    {\n",
        "        'name': 'advanced Machine Learning',\n",
        "        'description': 'Answers advanced Machine Learning questions',\n",
        "        'template': ml_advanced_template\n",
        "    }\n",
        "\n",
        "]\n",
        "\n",
        "destination_chains={}\n",
        "for p_info in prompt_infos:\n",
        "    name = p_info['name']\n",
        "    description = p_info['description']\n",
        "    template = p_info['template']\n",
        "    prompt = ChatPromptTemplate.from_template(template = template)\n",
        "    chain = LLMChain(llm=chat_llm, prompt=prompt)\n",
        "    destination_chains[name] = chain\n",
        "\n",
        "\n"
      ],
      "metadata": {
        "id": "Vp9anXI6ryJp"
      },
      "execution_count": null,
      "outputs": []
    },
    {
      "cell_type": "code",
      "source": [
        "default_prompt = ChatPromptTemplate.from_template('{input}')\n",
        "default_chain = LLMChain(llm=chat_llm, prompt=default_prompt)\n"
      ],
      "metadata": {
        "id": "v-1ptjgo0Mc5"
      },
      "execution_count": 9,
      "outputs": []
    },
    {
      "cell_type": "code",
      "source": [
        "from langchain.chains.router.multi_prompt_prompt import MULTI_PROMPT_ROUTER_TEMPLATE"
      ],
      "metadata": {
        "id": "GouCX9lR4Pf7"
      },
      "execution_count": 10,
      "outputs": []
    },
    {
      "cell_type": "code",
      "source": [
        "print(MULTI_PROMPT_ROUTER_TEMPLATE)"
      ],
      "metadata": {
        "colab": {
          "base_uri": "https://localhost:8080/"
        },
        "id": "s--VJJ6X53L-",
        "outputId": "c79985f1-dce6-4697-e066-abb0923d0d78"
      },
      "execution_count": 15,
      "outputs": [
        {
          "output_type": "stream",
          "name": "stdout",
          "text": [
            "Given a raw text input to a language model select the model prompt best suited for the input. You will be given the names of the available prompts and a description of what the prompt is best suited for. You may also revise the original input if you think that revising it will ultimately lead to a better response from the language model.\n",
            "\n",
            "<< FORMATTING >>\n",
            "Return a markdown code snippet with a JSON object formatted to look like:\n",
            "```json\n",
            "{{{{\n",
            "    \"destination\": string \\ name of the prompt to use or \"DEFAULT\"\n",
            "    \"next_inputs\": string \\ a potentially modified version of the original input\n",
            "}}}}\n",
            "```\n",
            "\n",
            "REMEMBER: \"destination\" MUST be one of the candidate prompt names specified below OR it can be \"DEFAULT\" if the input is not well suited for any of the candidate prompts.\n",
            "REMEMBER: \"next_inputs\" can just be the original input if you don't think any modifications are needed.\n",
            "\n",
            "<< CANDIDATE PROMPTS >>\n",
            "{destinations}\n",
            "\n",
            "<< INPUT >>\n",
            "{{input}}\n",
            "\n",
            "<< OUTPUT (must include ```json at the start of the response) >>\n",
            "<< OUTPUT (must end with ```) >>\n",
            "\n"
          ]
        }
      ]
    },
    {
      "cell_type": "code",
      "source": [
        "destinations = [ f\"{p['name']}:{p['description']}\" for p in prompt_infos]\n"
      ],
      "metadata": {
        "id": "LB3I7aAt57Pm"
      },
      "execution_count": 12,
      "outputs": []
    },
    {
      "cell_type": "code",
      "source": [
        "destinations"
      ],
      "metadata": {
        "colab": {
          "base_uri": "https://localhost:8080/"
        },
        "id": "gBwIbOAn0RtK",
        "outputId": "ace18b0b-8064-4f56-ad00-df689abbfd7f"
      },
      "execution_count": 14,
      "outputs": [
        {
          "output_type": "execute_result",
          "data": {
            "text/plain": [
              "['beginner Machine Learning:Answers basic Machine Learning questions',\n",
              " 'advanced Machine Learning:Answers advanced Machine Learning questions']"
            ]
          },
          "metadata": {},
          "execution_count": 14
        }
      ]
    },
    {
      "cell_type": "code",
      "source": [
        "destination_str = \"\\n\".join(destinations)\n",
        "print(destination_str)\n"
      ],
      "metadata": {
        "colab": {
          "base_uri": "https://localhost:8080/"
        },
        "id": "XHFLGra50TNk",
        "outputId": "7d810105-6ffa-4c4b-b3da-b935533f8be4"
      },
      "execution_count": 16,
      "outputs": [
        {
          "output_type": "stream",
          "name": "stdout",
          "text": [
            "beginner Machine Learning:Answers basic Machine Learning questions\n",
            "advanced Machine Learning:Answers advanced Machine Learning questions\n"
          ]
        }
      ]
    },
    {
      "cell_type": "code",
      "source": [
        "from langchain.prompts import PromptTemplate\n",
        "from langchain.chains.router.llm_router import LLMRouterChain, RouterOutputParser\n",
        "\n",
        "router_template = MULTI_PROMPT_ROUTER_TEMPLATE.format(destinations=destination_str)\n",
        "\n",
        "print(router_template)\n",
        "\n",
        "\n"
      ],
      "metadata": {
        "colab": {
          "base_uri": "https://localhost:8080/"
        },
        "id": "m0gijyCt1F6A",
        "outputId": "a057dd37-2443-4d67-c457-424ed0e67dae"
      },
      "execution_count": 17,
      "outputs": [
        {
          "output_type": "stream",
          "name": "stdout",
          "text": [
            "Given a raw text input to a language model select the model prompt best suited for the input. You will be given the names of the available prompts and a description of what the prompt is best suited for. You may also revise the original input if you think that revising it will ultimately lead to a better response from the language model.\n",
            "\n",
            "<< FORMATTING >>\n",
            "Return a markdown code snippet with a JSON object formatted to look like:\n",
            "```json\n",
            "{{\n",
            "    \"destination\": string \\ name of the prompt to use or \"DEFAULT\"\n",
            "    \"next_inputs\": string \\ a potentially modified version of the original input\n",
            "}}\n",
            "```\n",
            "\n",
            "REMEMBER: \"destination\" MUST be one of the candidate prompt names specified below OR it can be \"DEFAULT\" if the input is not well suited for any of the candidate prompts.\n",
            "REMEMBER: \"next_inputs\" can just be the original input if you don't think any modifications are needed.\n",
            "\n",
            "<< CANDIDATE PROMPTS >>\n",
            "beginner Machine Learning:Answers basic Machine Learning questions\n",
            "advanced Machine Learning:Answers advanced Machine Learning questions\n",
            "\n",
            "<< INPUT >>\n",
            "{input}\n",
            "\n",
            "<< OUTPUT (must include ```json at the start of the response) >>\n",
            "<< OUTPUT (must end with ```) >>\n",
            "\n"
          ]
        }
      ]
    },
    {
      "cell_type": "code",
      "source": [
        "router_prompt = PromptTemplate(template = router_template,\n",
        "                               input_variables=['input'],\n",
        "                               output_parser=RouterOutputParser())"
      ],
      "metadata": {
        "id": "w7Hyc1WA2dHV"
      },
      "execution_count": 18,
      "outputs": []
    },
    {
      "cell_type": "code",
      "source": [
        "from langchain.chains.router import MultiPromptChain\n",
        "router_chain = LLMRouterChain.from_llm(chat_llm, router_prompt)\n",
        "chain = MultiPromptChain(router_chain=router_chain, destination_chains=destination_chains,\n",
        "                         default_chain=default_chain, verbose=True)\n",
        "\n"
      ],
      "metadata": {
        "id": "0htm7Q5K25tI"
      },
      "execution_count": 20,
      "outputs": []
    },
    {
      "cell_type": "code",
      "source": [
        "chain.run(\"What is BackPropogation?\")"
      ],
      "metadata": {
        "colab": {
          "base_uri": "https://localhost:8080/",
          "height": 192
        },
        "id": "lIlkFf0z7cUI",
        "outputId": "3c9b0fe9-54c1-47af-a1ea-1fa87e4874f0"
      },
      "execution_count": 21,
      "outputs": [
        {
          "output_type": "stream",
          "name": "stdout",
          "text": [
            "\n",
            "\n",
            "\u001b[1m> Entering new MultiPromptChain chain...\u001b[0m\n"
          ]
        },
        {
          "output_type": "stream",
          "name": "stderr",
          "text": [
            "/usr/local/lib/python3.10/dist-packages/langchain/chains/llm.py:278: UserWarning: The predict_and_parse method is deprecated, instead pass an output parser directly to LLMChain.\n",
            "  warnings.warn(\n"
          ]
        },
        {
          "output_type": "stream",
          "name": "stdout",
          "text": [
            "beginner Machine Learning: {'input': 'What is Backpropagation?'}\n",
            "\u001b[1m> Finished chain.\u001b[0m\n"
          ]
        },
        {
          "output_type": "execute_result",
          "data": {
            "text/plain": [
              "\"Backpropagation is a fundamental concept in Machine Learning, specifically in training neural networks. It is a mathematical algorithm that allows us to adjust the weights and biases of the neural network to minimize the difference between the predicted output and the actual output.\\n\\nTo understand backpropagation, let's consider a simplified analogy. Imagine you have a friend who is learning how to play a video game for the first time. Initially, your friend is terrible at the game, but they want to improve. So, they start playing and you watch their performance closely.\\n\\nAfter each level, you provide feedback to your friend on their mistakes and guide them on what they should have done differently. Gradually, your friend learns from their mistakes and gets better at the game.\\n\\nIn this analogy, your friend represents the neural network, and you represent the backpropagation algorithm. The aim is to guide the neural network towards making better predictions by adjusting its parameters (weights and biases) based on the feedback provided.\\n\\nNow, let's dive into the technical details of backpropagation. When a neural network makes a prediction, it compares the predicted output with the actual output to calculate an error. Backpropagation works by propagating this error back through the network, starting from the output layer and moving towards the input layer.\\n\\nDuring this backward propagation, the algorithm calculates the contribution of each weight and bias to the overall error. It then adjusts these parameters to reduce the error. The adjustment is done using a technique called gradient descent, which finds the steepest path downhill to minimize the error.\\n\\nTo simplify further, think of backpropagation as a feedback loop that guides the neural network towards better predictions. It iteratively adjusts the network's parameters based on the errors observed, gradually improving its performance.\\n\\nIn summary, backpropagation is an algorithm that enables us to train neural networks by adjusting the weights and biases based on the errors observed during prediction. It helps the network learn from its mistakes and improve its ability to make accurate predictions.\""
            ],
            "application/vnd.google.colaboratory.intrinsic+json": {
              "type": "string"
            }
          },
          "metadata": {},
          "execution_count": 21
        }
      ]
    },
    {
      "cell_type": "code",
      "source": [
        "chain.run(\"Explain Backpropodation with Mathematical equations?\")"
      ],
      "metadata": {
        "colab": {
          "base_uri": "https://localhost:8080/",
          "height": 192
        },
        "id": "kcVjASdmAAP-",
        "outputId": "8075ea09-519b-49f9-9e4b-d999b778282d"
      },
      "execution_count": 23,
      "outputs": [
        {
          "output_type": "stream",
          "name": "stdout",
          "text": [
            "\n",
            "\n",
            "\u001b[1m> Entering new MultiPromptChain chain...\u001b[0m\n"
          ]
        },
        {
          "output_type": "stream",
          "name": "stderr",
          "text": [
            "/usr/local/lib/python3.10/dist-packages/langchain/chains/llm.py:278: UserWarning: The predict_and_parse method is deprecated, instead pass an output parser directly to LLMChain.\n",
            "  warnings.warn(\n"
          ]
        },
        {
          "output_type": "stream",
          "name": "stdout",
          "text": [
            "advanced Machine Learning: {'input': 'Explain Backpropagation with Mathematical equations?'}\n",
            "\u001b[1m> Finished chain.\u001b[0m\n"
          ]
        },
        {
          "output_type": "execute_result",
          "data": {
            "text/plain": [
              "\"Backpropagation is a widely used algorithm in the field of deep learning for training artificial neural networks. It is based on the chain rule of calculus and allows us to efficiently compute the gradients of the weights in a neural network.\\n\\nLet's start by considering a simple feedforward neural network with a single hidden layer. We'll denote the input to the network as x, the hidden layer activation as h, the output layer activation as y, the weights between the input and hidden layer as W, and the weights between the hidden and output layer as V. Additionally, we'll assume that we have a target output for a given input, denoted as t.\\n\\nThe forward pass of the neural network can be expressed as follows:\\n\\nh = f(Wx)    (1)\\ny = g(Vh)     (2)\\n\\nHere, f() and g() represent the activation functions applied to the hidden and output layers, respectively.\\n\\nTo train the neural network, we need to update the weights W and V such that the network's output y gets closer to the target output t. This is done by minimizing a loss function, which measures the difference between the predicted and target outputs.\\n\\nLet's use the mean squared error (MSE) as our loss function:\\n\\nL = 0.5 * (t - y)^2    (3)\\n\\nTo update the weights, we need to compute the gradients of the loss function with respect to the weights. This is where backpropagation comes into play.\\n\\nStarting from the output layer, we compute the partial derivatives of the loss function with respect to the weights. Using the chain rule, we can express these derivatives as follows:\\n\\n∂L/∂V = ∂L/∂y * ∂y/∂V    (4)\\n\\nNext, we compute the partial derivative of the loss function with respect to the hidden layer activation:\\n\\n∂L/∂h = ∂L/∂y * ∂y/∂h    (5)\\n\\nFinally, we compute the partial derivatives of the loss function with respect to the weights connecting the input and hidden layer:\\n\\n∂L/∂W = ∂L/∂h * ∂h/∂W    (6)\\n\\nTo update the weights, we use gradient descent, which involves subtracting the gradients multiplied by a learning rate:\\n\\nV_new = V - η * ∂L/∂V    (7)\\nW_new = W - η * ∂L/∂W    (8)\\n\\nHere, η represents the learning rate.\\n\\nTo compute the partial derivatives in equations (4), (5), and (6), we need to express the derivatives of the activation functions f() and g(). For simplicity, let's assume that both f() and g() are sigmoid activation functions.\\n\\nThe derivative of the sigmoid function σ(z) with respect to z is given by:\\n\\nσ'(z) = σ(z) * (1 - σ(z))    (9)\\n\\nUsing equations (1) and (2), we can rewrite equations (4), (5), and (6) in terms of the activation functions and their derivatives:\\n\\n∂L/∂V = (t - y) * g'(Vh) * h    (10)\\n∂L/∂h = (t - y) * g'(Vh) * V    (11)\\n∂L/∂W = (t - y) * g'(Vh) * V * f'(Wx) * x    (12)\\n\\nFinally, we can update the weights using equations (7) and (8).\\n\\nThis is a high-level explanation of backpropagation and the associated mathematical equations involved in training a simple feedforward neural network with a single hidden layer. In practice, backpropagation is extended to handle deep neural networks with multiple layers and more complex architectures.\""
            ],
            "application/vnd.google.colaboratory.intrinsic+json": {
              "type": "string"
            }
          },
          "metadata": {},
          "execution_count": 23
        }
      ]
    },
    {
      "cell_type": "code",
      "source": [],
      "metadata": {
        "id": "Q8g1TSCeAoje"
      },
      "execution_count": null,
      "outputs": []
    }
  ]
}