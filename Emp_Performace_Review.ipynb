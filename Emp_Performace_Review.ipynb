{
  "nbformat": 4,
  "nbformat_minor": 0,
  "metadata": {
    "colab": {
      "provenance": []
    },
    "kernelspec": {
      "name": "python3",
      "display_name": "Python 3"
    },
    "language_info": {
      "name": "python"
    }
  },
  "cells": [
    {
      "cell_type": "markdown",
      "source": [
        "# Design an Employee Review System where it has to\n",
        "1. Take Review text as input to LLMChain and output the summary\n",
        "2. Take Summary from previous step as input to another LLMChain and output areas of improvement\n",
        "3. Take Areas of improvement from previous step as input to next LLMChain and output Improvement plan"
      ],
      "metadata": {
        "id": "prRnvUUDuIb-"
      }
    },
    {
      "cell_type": "code",
      "source": [
        "!pip install openai\n",
        "!pip install --upgrade langchain"
      ],
      "metadata": {
        "id": "Kzkj6iCLvBh4"
      },
      "execution_count": null,
      "outputs": []
    },
    {
      "cell_type": "code",
      "execution_count": 9,
      "metadata": {
        "id": "Fcc5NiYBuCw7"
      },
      "outputs": [],
      "source": [
        "import langchain\n",
        "from langchain.llms import OpenAI\n",
        "from langchain.chat_models import ChatOpenAI\n",
        "from langchain.schema import AIMessage, HumanMessage, SystemMessage\n",
        "from langchain.prompts import PromptTemplate, ChatPromptTemplate, HumanMessagePromptTemplate, SystemMessagePromptTemplate, AIMessagePromptTemplate\n",
        "from langchain.chains import SequentialChain, LLMChain\n",
        "import os\n",
        "chat_llm = ChatOpenAI()"
      ]
    },
    {
      "cell_type": "code",
      "source": [
        "template1 = \"Give a summary of this employee's performance review \\n {review}\"\n",
        "prompt1 = ChatPromptTemplate.from_template(template1)\n",
        "chain1 = LLMChain(llm=chat_llm, prompt=prompt1,output_key='review_summary')\n",
        "\n",
        "template2 = \"Identify key weaknesses from this review summary \\n {review_summary}\"\n",
        "prompt2 = ChatPromptTemplate.from_template(template2)\n",
        "chain2 = LLMChain(llm=chat_llm, prompt=prompt2,output_key='weaknesses')\n",
        "\n",
        "template3 = \"Create a personalized plan to address and fix these weaknesses  \\n {weaknesses}\"\n",
        "prompt3 = ChatPromptTemplate.from_template(template3)\n",
        "chain3 = LLMChain(llm=chat_llm, prompt=prompt3,output_key='final_plan')\n",
        "\n"
      ],
      "metadata": {
        "id": "84oQA2gQu6gQ"
      },
      "execution_count": 10,
      "outputs": []
    },
    {
      "cell_type": "code",
      "source": [
        "employee_review = '''\n",
        "Employee Information:\n",
        "Name: Joe Schmo\n",
        "Position: Software Engineer\n",
        "Date of Review: July 14, 2023\n",
        "\n",
        "Strengths:\n",
        "Joe is a highly skilled software engineer with a deep understanding of programming languages, algorithms, and software development best practices. His technical expertise shines through in his ability to efficiently solve complex problems and deliver high-quality code.\n",
        "\n",
        "One of Joe's greatest strengths is his collaborative nature. He actively engages with cross-functional teams, contributing valuable insights and seeking input from others. His open-mindedness and willingness to learn from colleagues make him a true team player.\n",
        "\n",
        "Joe consistently demonstrates initiative and self-motivation. He takes the lead in seeking out new projects and challenges, and his proactive attitude has led to significant improvements in existing processes and systems. His dedication to self-improvement and growth is commendable.\n",
        "\n",
        "Another notable strength is Joe's adaptability. He has shown great flexibility in handling changing project requirements and learning new technologies. This adaptability allows him to seamlessly transition between different projects and tasks, making him a valuable asset to the team.\n",
        "\n",
        "Joe's problem-solving skills are exceptional. He approaches issues with a logical mindset and consistently finds effective solutions, often thinking outside the box. His ability to break down complex problems into manageable parts is key to his success in resolving issues efficiently.\n",
        "\n",
        "Weaknesses:\n",
        "While Joe possesses numerous strengths, there are a few areas where he could benefit from improvement. One such area is time management. Occasionally, Joe struggles with effectively managing his time, resulting in missed deadlines or the need for additional support to complete tasks on time. Developing better prioritization and time management techniques would greatly enhance his efficiency.\n",
        "\n",
        "Another area for improvement is Joe's written communication skills. While he communicates well verbally, there have been instances where his written documentation lacked clarity, leading to confusion among team members. Focusing on enhancing his written communication abilities will help him effectively convey ideas and instructions.\n",
        "\n",
        "Additionally, Joe tends to take on too many responsibilities and hesitates to delegate tasks to others. This can result in an excessive workload and potential burnout. Encouraging him to delegate tasks appropriately will not only alleviate his own workload but also foster a more balanced and productive team environment.\n",
        "'''"
      ],
      "metadata": {
        "id": "2JMDRM7fyyC7"
      },
      "execution_count": 6,
      "outputs": []
    },
    {
      "cell_type": "code",
      "source": [
        "seq_chain = SequentialChain(chains=[chain1, chain2, chain3],\n",
        "                            input_variables=['review'],\n",
        "                            output_variables=['review_summary', 'weaknesses', 'final_plan'], verbose=True)\n",
        "\n",
        "results = seq_chain(employee_review)"
      ],
      "metadata": {
        "colab": {
          "base_uri": "https://localhost:8080/"
        },
        "id": "JaoPi2O0y0ek",
        "outputId": "048ee0eb-81de-41a1-8796-04347a98f6ec"
      },
      "execution_count": 13,
      "outputs": [
        {
          "output_type": "stream",
          "name": "stdout",
          "text": [
            "\n",
            "\n",
            "\u001b[1m> Entering new SequentialChain chain...\u001b[0m\n",
            "\n",
            "\u001b[1m> Finished chain.\u001b[0m\n"
          ]
        }
      ]
    },
    {
      "cell_type": "code",
      "source": [
        "print(results['review_summary'])"
      ],
      "metadata": {
        "colab": {
          "base_uri": "https://localhost:8080/"
        },
        "id": "D2NtB2tq0Gm_",
        "outputId": "48b8a14c-0096-42d1-a621-62789d610149"
      },
      "execution_count": 14,
      "outputs": [
        {
          "output_type": "stream",
          "name": "stdout",
          "text": [
            "Overall, Joe Schmo's performance as a software engineer is highly commendable. He excels in his technical expertise, problem-solving skills, collaboration, adaptability, and self-motivation. However, there are areas for improvement, such as time management, written communication, and delegation. By enhancing these skills, Joe can further enhance his efficiency and contribute to a more balanced and productive team environment.\n"
          ]
        }
      ]
    },
    {
      "cell_type": "code",
      "source": [
        "print(results['weaknesses'])"
      ],
      "metadata": {
        "colab": {
          "base_uri": "https://localhost:8080/"
        },
        "id": "eyUshINi1CbN",
        "outputId": "7ea4c1d5-f9b7-40a2-a4a2-4037a3510889"
      },
      "execution_count": 15,
      "outputs": [
        {
          "output_type": "stream",
          "name": "stdout",
          "text": [
            "- Time management: The review mentions that Joe needs to improve his time management skills. This suggests that he may struggle with effectively managing his workload and meeting deadlines.\n",
            "- Written communication: The review highlights that Joe could improve his written communication skills. This implies that he may have difficulty conveying information or ideas clearly and concisely through written mediums.\n",
            "- Delegation: The review indicates that Joe needs to work on his delegation skills. This suggests that he may struggle with assigning tasks to others and trusting them to complete the work effectively.\n"
          ]
        }
      ]
    },
    {
      "cell_type": "code",
      "source": [
        "print(results['final_plan'])"
      ],
      "metadata": {
        "colab": {
          "base_uri": "https://localhost:8080/"
        },
        "id": "RRWGpVhD1LRo",
        "outputId": "c8f21810-616f-48c8-b41b-88510d9dbbc1"
      },
      "execution_count": 16,
      "outputs": [
        {
          "output_type": "stream",
          "name": "stdout",
          "text": [
            "1. Time Management:\n",
            "- Set clear goals and priorities: Joe should identify the most important tasks and prioritize them accordingly. This will help him stay focused and ensure that he is allocating his time effectively.\n",
            "- Use productivity tools: Encourage Joe to utilize time management tools such as calendars, to-do lists, and project management software. These tools can help him schedule tasks, set reminders, and track progress.\n",
            "- Break tasks into smaller, manageable chunks: Joe can improve his time management by breaking larger tasks into smaller, more manageable parts. This will make it easier for him to allocate time and track progress.\n",
            "- Set deadlines and stick to them: Encourage Joe to set realistic deadlines for tasks and projects, and hold himself accountable for meeting them. This will help him develop a sense of urgency and improve his time management skills.\n",
            "\n",
            "2. Written Communication:\n",
            "- Provide training or workshops: Offer Joe the opportunity to attend workshops or training sessions focused on improving written communication skills. These sessions can provide guidance on grammar, sentence structure, and effective writing techniques.\n",
            "- Encourage practice: Encourage Joe to regularly practice writing by assigning him written tasks or projects. Provide feedback and guidance to help him improve his writing skills and clarity of expression.\n",
            "- Use templates and guidelines: Provide Joe with templates or style guides for different types of written communication. These resources can serve as a reference and help him structure his writing effectively.\n",
            "\n",
            "3. Delegation:\n",
            "- Identify strengths and weaknesses: Help Joe identify his own strengths and weaknesses, as well as those of his team members. This will enable him to delegate tasks to individuals who are best suited for them.\n",
            "- Build trust: Encourage Joe to build trust with his team members by clearly communicating expectations, providing guidance, and being open to feedback. This will help him develop confidence in their abilities and delegate tasks more effectively.\n",
            "- Start with small tasks: Initially, encourage Joe to delegate smaller, less critical tasks to team members. This will allow him to gradually build trust and gain confidence in their abilities.\n",
            "- Provide support and resources: Ensure Joe has access to the necessary resources and support to delegate effectively. This may include training, tools, or additional personnel if needed.\n",
            "\n",
            "Regular check-ins and feedback sessions will be important to monitor Joe's progress and address any ongoing challenges. It is also important to provide ongoing support and encouragement as he works on improving these weaknesses.\n"
          ]
        }
      ]
    }
  ]
}