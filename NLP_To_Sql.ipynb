{
  "nbformat": 4,
  "nbformat_minor": 0,
  "metadata": {
    "colab": {
      "provenance": [],
      "authorship_tag": "ABX9TyNyDK9uGMkCv56w8rCcy1CI",
      "include_colab_link": true
    },
    "kernelspec": {
      "name": "python3",
      "display_name": "Python 3"
    },
    "language_info": {
      "name": "python"
    }
  },
  "cells": [
    {
      "cell_type": "markdown",
      "metadata": {
        "id": "view-in-github",
        "colab_type": "text"
      },
      "source": [
        "<a href=\"https://colab.research.google.com/github/gforgurups/langchain/blob/main/NLP_To_Sql.ipynb\" target=\"_parent\"><img src=\"https://colab.research.google.com/assets/colab-badge.svg\" alt=\"Open In Colab\"/></a>"
      ]
    },
    {
      "cell_type": "code",
      "execution_count": null,
      "metadata": {
        "id": "JjlT_usXDNVt"
      },
      "outputs": [],
      "source": [
        "!pip install openai"
      ]
    },
    {
      "cell_type": "code",
      "source": [
        "import openai\n",
        "import os\n",
        "import pandas as pd"
      ],
      "metadata": {
        "id": "W1bYvDYjOXot"
      },
      "execution_count": 3,
      "outputs": []
    },
    {
      "cell_type": "code",
      "source": [
        "os.environ['OPENAI_API_KEY'] = \"\"\n",
        "openai.api_key=os.getenv(\"OPENAI_API_KEY\")"
      ],
      "metadata": {
        "id": "5xdZaoe_OvP0"
      },
      "execution_count": 4,
      "outputs": []
    },
    {
      "cell_type": "code",
      "source": [
        "df =  pd.read_csv(\"sample_data/sales_data_sample.csv\")"
      ],
      "metadata": {
        "id": "-Qr9MtUEPhbR"
      },
      "execution_count": 6,
      "outputs": []
    },
    {
      "cell_type": "code",
      "source": [
        "print(df.head(5))"
      ],
      "metadata": {
        "colab": {
          "base_uri": "https://localhost:8080/"
        },
        "id": "j68FaKcAQucu",
        "outputId": "dcca4ea6-29e2-44c4-a73a-da6f710cab66"
      },
      "execution_count": 7,
      "outputs": [
        {
          "output_type": "stream",
          "name": "stdout",
          "text": [
            "   ORDERNUMBER  QUANTITYORDERED  PRICEEACH    SALES        ORDERDATE  QTR_ID  \\\n",
            "0        10107               30      95.70  2871.00   2/24/2003 0:00       1   \n",
            "1        10121               34      81.35  2765.90    5/7/2003 0:00       2   \n",
            "2        10134               41      94.74  3884.34    7/1/2003 0:00       3   \n",
            "3        10145               45      83.26  3746.70   8/25/2003 0:00       3   \n",
            "4        10159               49     100.00  5205.27  10/10/2003 0:00       4   \n",
            "\n",
            "   MONTH_ID  YEAR_ID  PRODUCTLINE             PHONE  \\\n",
            "0         2     2003  Motorcycles        2125557818   \n",
            "1         5     2003  Motorcycles        26.47.1555   \n",
            "2         7     2003  Motorcycles  +33 1 46 62 7555   \n",
            "3         8     2003  Motorcycles        6265557265   \n",
            "4        10     2003  Motorcycles        6505551386   \n",
            "\n",
            "                    ADDRESSLINE1           CITY STATE POSTALCODE COUNTRY  \\\n",
            "0        897 Long Airport Avenue            NYC    NY      10022     USA   \n",
            "1             59 rue de l'Abbaye          Reims   NaN      51100  France   \n",
            "2  27 rue du Colonel Pierre Avia          Paris   NaN      75508  France   \n",
            "3             78934 Hillside Dr.       Pasadena    CA      90003     USA   \n",
            "4                7734 Strong St.  San Francisco    CA        NaN     USA   \n",
            "\n",
            "  CONTACTLASTNAME CONTACTFIRSTNAME  \n",
            "0              Yu             Kwai  \n",
            "1         Henriot             Paul  \n",
            "2        Da Cunha           Daniel  \n",
            "3           Young            Julie  \n",
            "4           Brown            Julie  \n"
          ]
        }
      ]
    },
    {
      "cell_type": "code",
      "source": [
        "import sqlalchemy\n",
        "from sqlalchemy import create_engine\n",
        "from sqlalchemy import text"
      ],
      "metadata": {
        "id": "1T5HMMFvQvQT"
      },
      "execution_count": 8,
      "outputs": []
    },
    {
      "cell_type": "markdown",
      "source": [
        "###Set up TempDB in RAM. Push Pandas df to TempDB. Execute Sql query on TempDB"
      ],
      "metadata": {
        "id": "96MdKJomTWlh"
      }
    },
    {
      "cell_type": "code",
      "source": [
        "temp_db = create_engine(\"sqlite:///:memory:\",echo=True)\n",
        "data = df.to_sql(name='Sales',con=temp_db)"
      ],
      "metadata": {
        "colab": {
          "base_uri": "https://localhost:8080/"
        },
        "id": "d8E1FWD2S4-e",
        "outputId": "354cbece-546d-45db-916f-e6fa3b90ad83"
      },
      "execution_count": 9,
      "outputs": [
        {
          "output_type": "stream",
          "name": "stdout",
          "text": [
            "2023-12-24 13:50:59,285 INFO sqlalchemy.engine.Engine BEGIN (implicit)\n"
          ]
        },
        {
          "output_type": "stream",
          "name": "stderr",
          "text": [
            "INFO:sqlalchemy.engine.Engine:BEGIN (implicit)\n"
          ]
        },
        {
          "output_type": "stream",
          "name": "stdout",
          "text": [
            "2023-12-24 13:50:59,289 INFO sqlalchemy.engine.Engine PRAGMA main.table_info(\"Sales\")\n"
          ]
        },
        {
          "output_type": "stream",
          "name": "stderr",
          "text": [
            "INFO:sqlalchemy.engine.Engine:PRAGMA main.table_info(\"Sales\")\n"
          ]
        },
        {
          "output_type": "stream",
          "name": "stdout",
          "text": [
            "2023-12-24 13:50:59,293 INFO sqlalchemy.engine.Engine [raw sql] ()\n"
          ]
        },
        {
          "output_type": "stream",
          "name": "stderr",
          "text": [
            "INFO:sqlalchemy.engine.Engine:[raw sql] ()\n"
          ]
        },
        {
          "output_type": "stream",
          "name": "stdout",
          "text": [
            "2023-12-24 13:50:59,296 INFO sqlalchemy.engine.Engine PRAGMA temp.table_info(\"Sales\")\n"
          ]
        },
        {
          "output_type": "stream",
          "name": "stderr",
          "text": [
            "INFO:sqlalchemy.engine.Engine:PRAGMA temp.table_info(\"Sales\")\n"
          ]
        },
        {
          "output_type": "stream",
          "name": "stdout",
          "text": [
            "2023-12-24 13:50:59,299 INFO sqlalchemy.engine.Engine [raw sql] ()\n"
          ]
        },
        {
          "output_type": "stream",
          "name": "stderr",
          "text": [
            "INFO:sqlalchemy.engine.Engine:[raw sql] ()\n"
          ]
        },
        {
          "output_type": "stream",
          "name": "stdout",
          "text": [
            "2023-12-24 13:50:59,301 INFO sqlalchemy.engine.Engine ROLLBACK\n"
          ]
        },
        {
          "output_type": "stream",
          "name": "stderr",
          "text": [
            "INFO:sqlalchemy.engine.Engine:ROLLBACK\n"
          ]
        },
        {
          "output_type": "stream",
          "name": "stdout",
          "text": [
            "2023-12-24 13:50:59,306 INFO sqlalchemy.engine.Engine BEGIN (implicit)\n"
          ]
        },
        {
          "output_type": "stream",
          "name": "stderr",
          "text": [
            "INFO:sqlalchemy.engine.Engine:BEGIN (implicit)\n"
          ]
        },
        {
          "output_type": "stream",
          "name": "stdout",
          "text": [
            "2023-12-24 13:50:59,309 INFO sqlalchemy.engine.Engine \n",
            "CREATE TABLE \"Sales\" (\n",
            "\t\"index\" BIGINT, \n",
            "\t\"ORDERNUMBER\" BIGINT, \n",
            "\t\"QUANTITYORDERED\" BIGINT, \n",
            "\t\"PRICEEACH\" FLOAT, \n",
            "\t\"SALES\" FLOAT, \n",
            "\t\"ORDERDATE\" TEXT, \n",
            "\t\"QTR_ID\" BIGINT, \n",
            "\t\"MONTH_ID\" BIGINT, \n",
            "\t\"YEAR_ID\" BIGINT, \n",
            "\t\"PRODUCTLINE\" TEXT, \n",
            "\t\"PHONE\" TEXT, \n",
            "\t\"ADDRESSLINE1\" TEXT, \n",
            "\t\"CITY\" TEXT, \n",
            "\t\"STATE\" TEXT, \n",
            "\t\"POSTALCODE\" TEXT, \n",
            "\t\"COUNTRY\" TEXT, \n",
            "\t\"CONTACTLASTNAME\" TEXT, \n",
            "\t\"CONTACTFIRSTNAME\" TEXT\n",
            ")\n",
            "\n",
            "\n"
          ]
        },
        {
          "output_type": "stream",
          "name": "stderr",
          "text": [
            "INFO:sqlalchemy.engine.Engine:\n",
            "CREATE TABLE \"Sales\" (\n",
            "\t\"index\" BIGINT, \n",
            "\t\"ORDERNUMBER\" BIGINT, \n",
            "\t\"QUANTITYORDERED\" BIGINT, \n",
            "\t\"PRICEEACH\" FLOAT, \n",
            "\t\"SALES\" FLOAT, \n",
            "\t\"ORDERDATE\" TEXT, \n",
            "\t\"QTR_ID\" BIGINT, \n",
            "\t\"MONTH_ID\" BIGINT, \n",
            "\t\"YEAR_ID\" BIGINT, \n",
            "\t\"PRODUCTLINE\" TEXT, \n",
            "\t\"PHONE\" TEXT, \n",
            "\t\"ADDRESSLINE1\" TEXT, \n",
            "\t\"CITY\" TEXT, \n",
            "\t\"STATE\" TEXT, \n",
            "\t\"POSTALCODE\" TEXT, \n",
            "\t\"COUNTRY\" TEXT, \n",
            "\t\"CONTACTLASTNAME\" TEXT, \n",
            "\t\"CONTACTFIRSTNAME\" TEXT\n",
            ")\n",
            "\n",
            "\n"
          ]
        },
        {
          "output_type": "stream",
          "name": "stdout",
          "text": [
            "2023-12-24 13:50:59,312 INFO sqlalchemy.engine.Engine [no key 0.00258s] ()\n"
          ]
        },
        {
          "output_type": "stream",
          "name": "stderr",
          "text": [
            "INFO:sqlalchemy.engine.Engine:[no key 0.00258s] ()\n"
          ]
        },
        {
          "output_type": "stream",
          "name": "stdout",
          "text": [
            "2023-12-24 13:50:59,315 INFO sqlalchemy.engine.Engine CREATE INDEX \"ix_Sales_index\" ON \"Sales\" (\"index\")\n"
          ]
        },
        {
          "output_type": "stream",
          "name": "stderr",
          "text": [
            "INFO:sqlalchemy.engine.Engine:CREATE INDEX \"ix_Sales_index\" ON \"Sales\" (\"index\")\n"
          ]
        },
        {
          "output_type": "stream",
          "name": "stdout",
          "text": [
            "2023-12-24 13:50:59,317 INFO sqlalchemy.engine.Engine [no key 0.00259s] ()\n"
          ]
        },
        {
          "output_type": "stream",
          "name": "stderr",
          "text": [
            "INFO:sqlalchemy.engine.Engine:[no key 0.00259s] ()\n"
          ]
        },
        {
          "output_type": "stream",
          "name": "stdout",
          "text": [
            "2023-12-24 13:50:59,320 INFO sqlalchemy.engine.Engine COMMIT\n"
          ]
        },
        {
          "output_type": "stream",
          "name": "stderr",
          "text": [
            "INFO:sqlalchemy.engine.Engine:COMMIT\n"
          ]
        },
        {
          "output_type": "stream",
          "name": "stdout",
          "text": [
            "2023-12-24 13:50:59,335 INFO sqlalchemy.engine.Engine BEGIN (implicit)\n"
          ]
        },
        {
          "output_type": "stream",
          "name": "stderr",
          "text": [
            "INFO:sqlalchemy.engine.Engine:BEGIN (implicit)\n"
          ]
        },
        {
          "output_type": "stream",
          "name": "stdout",
          "text": [
            "2023-12-24 13:50:59,411 INFO sqlalchemy.engine.Engine INSERT INTO \"Sales\" (\"index\", \"ORDERNUMBER\", \"QUANTITYORDERED\", \"PRICEEACH\", \"SALES\", \"ORDERDATE\", \"QTR_ID\", \"MONTH_ID\", \"YEAR_ID\", \"PRODUCTLINE\", \"PHONE\", \"ADDRESSLINE1\", \"CITY\", \"STATE\", \"POSTALCODE\", \"COUNTRY\", \"CONTACTLASTNAME\", \"CONTACTFIRSTNAME\") VALUES (?, ?, ?, ?, ?, ?, ?, ?, ?, ?, ?, ?, ?, ?, ?, ?, ?, ?)\n"
          ]
        },
        {
          "output_type": "stream",
          "name": "stderr",
          "text": [
            "INFO:sqlalchemy.engine.Engine:INSERT INTO \"Sales\" (\"index\", \"ORDERNUMBER\", \"QUANTITYORDERED\", \"PRICEEACH\", \"SALES\", \"ORDERDATE\", \"QTR_ID\", \"MONTH_ID\", \"YEAR_ID\", \"PRODUCTLINE\", \"PHONE\", \"ADDRESSLINE1\", \"CITY\", \"STATE\", \"POSTALCODE\", \"COUNTRY\", \"CONTACTLASTNAME\", \"CONTACTFIRSTNAME\") VALUES (?, ?, ?, ?, ?, ?, ?, ?, ?, ?, ?, ?, ?, ?, ?, ?, ?, ?)\n"
          ]
        },
        {
          "output_type": "stream",
          "name": "stdout",
          "text": [
            "2023-12-24 13:50:59,415 INFO sqlalchemy.engine.Engine [generated in 0.04937s] [(0, 10107, 30, 95.7, 2871.0, '2/24/2003 0:00', 1, 2, 2003, 'Motorcycles', '2125557818', '897 Long Airport Avenue', 'NYC', 'NY', '10022', 'USA', 'Yu', 'Kwai'), (1, 10121, 34, 81.35, 2765.9, '5/7/2003 0:00', 2, 5, 2003, 'Motorcycles', '26.47.1555', \"59 rue de l'Abbaye\", 'Reims', None, '51100', 'France', 'Henriot', 'Paul'), (2, 10134, 41, 94.74, 3884.34, '7/1/2003 0:00', 3, 7, 2003, 'Motorcycles', '+33 1 46 62 7555', '27 rue du Colonel Pierre Avia', 'Paris', None, '75508', 'France', 'Da Cunha', 'Daniel'), (3, 10145, 45, 83.26, 3746.7, '8/25/2003 0:00', 3, 8, 2003, 'Motorcycles', '6265557265', '78934 Hillside Dr.', 'Pasadena', 'CA', '90003', 'USA', 'Young', 'Julie'), (4, 10159, 49, 100.0, 5205.27, '10/10/2003 0:00', 4, 10, 2003, 'Motorcycles', '6505551386', '7734 Strong St.', 'San Francisco', 'CA', None, 'USA', 'Brown', 'Julie'), (5, 10168, 36, 96.66, 3479.76, '10/28/2003 0:00', 4, 10, 2003, 'Motorcycles', '6505556809', '9408 Furth Circle', 'Burlingame', 'CA', '94217', 'USA', 'Hirano', 'Juri'), (6, 10180, 29, 86.13, 2497.77, '11/11/2003 0:00', 4, 11, 2003, 'Motorcycles', '20.16.1555', '184, chausse de Tournai', 'Lille', None, '59000', 'France', 'Rance', 'Martine'), (7, 10188, 48, 100.0, 5512.32, '11/18/2003 0:00', 4, 11, 2003, 'Motorcycles', '+47 2267 3215', 'Drammen 121, PR 744 Sentrum', 'Bergen', None, 'N 5804', 'Norway', 'Oeztan', 'Veysel')  ... displaying 10 of 2823 total bound parameter sets ...  (2821, 10397, 34, 62.24, 2116.16, '3/28/2005 0:00', 1, 3, 2005, 'Ships', '61.77.6555', '1 rue Alsace-Lorraine', 'Toulouse', None, '31000', 'France', 'Roulet', 'Annette'), (2822, 10414, 47, 65.52, 3079.44, '5/6/2005 0:00', 2, 5, 2005, 'Ships', '6175559555', '8616 Spinnaker Dr.', 'Boston', 'MA', '51003', 'USA', 'Yoshido', 'Juri')]\n"
          ]
        },
        {
          "output_type": "stream",
          "name": "stderr",
          "text": [
            "INFO:sqlalchemy.engine.Engine:[generated in 0.04937s] [(0, 10107, 30, 95.7, 2871.0, '2/24/2003 0:00', 1, 2, 2003, 'Motorcycles', '2125557818', '897 Long Airport Avenue', 'NYC', 'NY', '10022', 'USA', 'Yu', 'Kwai'), (1, 10121, 34, 81.35, 2765.9, '5/7/2003 0:00', 2, 5, 2003, 'Motorcycles', '26.47.1555', \"59 rue de l'Abbaye\", 'Reims', None, '51100', 'France', 'Henriot', 'Paul'), (2, 10134, 41, 94.74, 3884.34, '7/1/2003 0:00', 3, 7, 2003, 'Motorcycles', '+33 1 46 62 7555', '27 rue du Colonel Pierre Avia', 'Paris', None, '75508', 'France', 'Da Cunha', 'Daniel'), (3, 10145, 45, 83.26, 3746.7, '8/25/2003 0:00', 3, 8, 2003, 'Motorcycles', '6265557265', '78934 Hillside Dr.', 'Pasadena', 'CA', '90003', 'USA', 'Young', 'Julie'), (4, 10159, 49, 100.0, 5205.27, '10/10/2003 0:00', 4, 10, 2003, 'Motorcycles', '6505551386', '7734 Strong St.', 'San Francisco', 'CA', None, 'USA', 'Brown', 'Julie'), (5, 10168, 36, 96.66, 3479.76, '10/28/2003 0:00', 4, 10, 2003, 'Motorcycles', '6505556809', '9408 Furth Circle', 'Burlingame', 'CA', '94217', 'USA', 'Hirano', 'Juri'), (6, 10180, 29, 86.13, 2497.77, '11/11/2003 0:00', 4, 11, 2003, 'Motorcycles', '20.16.1555', '184, chausse de Tournai', 'Lille', None, '59000', 'France', 'Rance', 'Martine'), (7, 10188, 48, 100.0, 5512.32, '11/18/2003 0:00', 4, 11, 2003, 'Motorcycles', '+47 2267 3215', 'Drammen 121, PR 744 Sentrum', 'Bergen', None, 'N 5804', 'Norway', 'Oeztan', 'Veysel')  ... displaying 10 of 2823 total bound parameter sets ...  (2821, 10397, 34, 62.24, 2116.16, '3/28/2005 0:00', 1, 3, 2005, 'Ships', '61.77.6555', '1 rue Alsace-Lorraine', 'Toulouse', None, '31000', 'France', 'Roulet', 'Annette'), (2822, 10414, 47, 65.52, 3079.44, '5/6/2005 0:00', 2, 5, 2005, 'Ships', '6175559555', '8616 Spinnaker Dr.', 'Boston', 'MA', '51003', 'USA', 'Yoshido', 'Juri')]\n"
          ]
        },
        {
          "output_type": "stream",
          "name": "stdout",
          "text": [
            "2023-12-24 13:50:59,439 INFO sqlalchemy.engine.Engine COMMIT\n"
          ]
        },
        {
          "output_type": "stream",
          "name": "stderr",
          "text": [
            "INFO:sqlalchemy.engine.Engine:COMMIT\n"
          ]
        },
        {
          "output_type": "stream",
          "name": "stdout",
          "text": [
            "2023-12-24 13:50:59,445 INFO sqlalchemy.engine.Engine BEGIN (implicit)\n"
          ]
        },
        {
          "output_type": "stream",
          "name": "stderr",
          "text": [
            "INFO:sqlalchemy.engine.Engine:BEGIN (implicit)\n"
          ]
        },
        {
          "output_type": "stream",
          "name": "stdout",
          "text": [
            "2023-12-24 13:50:59,450 INFO sqlalchemy.engine.Engine SELECT name FROM sqlite_master WHERE type='table' AND name NOT LIKE 'sqlite~_%' ESCAPE '~' ORDER BY name\n"
          ]
        },
        {
          "output_type": "stream",
          "name": "stderr",
          "text": [
            "INFO:sqlalchemy.engine.Engine:SELECT name FROM sqlite_master WHERE type='table' AND name NOT LIKE 'sqlite~_%' ESCAPE '~' ORDER BY name\n"
          ]
        },
        {
          "output_type": "stream",
          "name": "stdout",
          "text": [
            "2023-12-24 13:50:59,456 INFO sqlalchemy.engine.Engine [raw sql] ()\n"
          ]
        },
        {
          "output_type": "stream",
          "name": "stderr",
          "text": [
            "INFO:sqlalchemy.engine.Engine:[raw sql] ()\n"
          ]
        },
        {
          "output_type": "stream",
          "name": "stdout",
          "text": [
            "2023-12-24 13:50:59,460 INFO sqlalchemy.engine.Engine ROLLBACK\n"
          ]
        },
        {
          "output_type": "stream",
          "name": "stderr",
          "text": [
            "INFO:sqlalchemy.engine.Engine:ROLLBACK\n"
          ]
        }
      ]
    },
    {
      "cell_type": "code",
      "source": [
        "with temp_db.connect() as conn:\n",
        "  result = conn.execute(text(\"select Country, sum(sales) from Sales group by Country\"))"
      ],
      "metadata": {
        "colab": {
          "base_uri": "https://localhost:8080/"
        },
        "id": "qS6ZFygCexb2",
        "outputId": "922bb0d5-2c88-48a9-f0dc-94eabe981c4c"
      },
      "execution_count": 10,
      "outputs": [
        {
          "output_type": "stream",
          "name": "stdout",
          "text": [
            "2023-12-24 13:51:27,638 INFO sqlalchemy.engine.Engine BEGIN (implicit)\n"
          ]
        },
        {
          "output_type": "stream",
          "name": "stderr",
          "text": [
            "INFO:sqlalchemy.engine.Engine:BEGIN (implicit)\n"
          ]
        },
        {
          "output_type": "stream",
          "name": "stdout",
          "text": [
            "2023-12-24 13:51:27,642 INFO sqlalchemy.engine.Engine select Country, sum(sales) from Sales group by Country\n"
          ]
        },
        {
          "output_type": "stream",
          "name": "stderr",
          "text": [
            "INFO:sqlalchemy.engine.Engine:select Country, sum(sales) from Sales group by Country\n"
          ]
        },
        {
          "output_type": "stream",
          "name": "stdout",
          "text": [
            "2023-12-24 13:51:27,649 INFO sqlalchemy.engine.Engine [generated in 0.01080s] ()\n"
          ]
        },
        {
          "output_type": "stream",
          "name": "stderr",
          "text": [
            "INFO:sqlalchemy.engine.Engine:[generated in 0.01080s] ()\n"
          ]
        },
        {
          "output_type": "stream",
          "name": "stdout",
          "text": [
            "2023-12-24 13:51:27,653 INFO sqlalchemy.engine.Engine ROLLBACK\n"
          ]
        },
        {
          "output_type": "stream",
          "name": "stderr",
          "text": [
            "INFO:sqlalchemy.engine.Engine:ROLLBACK\n"
          ]
        }
      ]
    },
    {
      "cell_type": "code",
      "source": [
        "result.all()"
      ],
      "metadata": {
        "colab": {
          "base_uri": "https://localhost:8080/"
        },
        "id": "tHKpENOfvDcz",
        "outputId": "1ee2e177-16bb-4f62-87e4-0987e8598b13"
      },
      "execution_count": 11,
      "outputs": [
        {
          "output_type": "execute_result",
          "data": {
            "text/plain": [
              "[('Australia', 630623.1000000001),\n",
              " ('Austria', 202062.53),\n",
              " ('Belgium', 108412.62),\n",
              " ('Canada', 224078.55999999994),\n",
              " ('Denmark', 245637.15),\n",
              " ('Finland', 329581.9100000001),\n",
              " ('France', 1110916.5199999993),\n",
              " ('Germany', 220472.08999999994),\n",
              " ('Ireland', 57756.43),\n",
              " ('Italy', 374674.30999999976),\n",
              " ('Japan', 188167.80999999997),\n",
              " ('Norway', 307463.7000000001),\n",
              " ('Philippines', 94015.73),\n",
              " ('Singapore', 288488.41000000003),\n",
              " ('Spain', 1215686.9200000009),\n",
              " ('Sweden', 210014.21),\n",
              " ('Switzerland', 117713.55999999998),\n",
              " ('UK', 478880.4600000001),\n",
              " ('USA', 3627982.83)]"
            ]
          },
          "metadata": {},
          "execution_count": 11
        }
      ]
    },
    {
      "cell_type": "code",
      "source": [
        "### sqlite SQL tables, with their properties:\n",
        "#\n",
        "# Employee (id, name)\n",
        "#\n",
        "#\n",
        "### query to list the ...\n",
        "# Select"
      ],
      "metadata": {
        "id": "dt9FYREku90W"
      },
      "execution_count": null,
      "outputs": []
    },
    {
      "cell_type": "code",
      "source": [
        "def create_table_def(df):\n",
        "  prompt = \"\"\"### sqlite SQL table, with its properties:\n",
        "  #\n",
        "  # Sales({})\n",
        "  #\n",
        "  \"\"\".format(\",\".join(str(col) for col in df.columns))\n",
        "\n",
        "  return prompt"
      ],
      "metadata": {
        "id": "Lje5LldG4Ulx"
      },
      "execution_count": 12,
      "outputs": []
    },
    {
      "cell_type": "code",
      "source": [
        "print(create_table_def(df))"
      ],
      "metadata": {
        "colab": {
          "base_uri": "https://localhost:8080/"
        },
        "id": "KJEtQi2p5Vhg",
        "outputId": "b21799d7-3733-4b3c-d2ee-3ebc739521a7"
      },
      "execution_count": 13,
      "outputs": [
        {
          "output_type": "stream",
          "name": "stdout",
          "text": [
            "### sqlite SQL table, with its properties:\n",
            "  #\n",
            "  # Sales(ORDERNUMBER,QUANTITYORDERED,PRICEEACH,SALES,ORDERDATE,QTR_ID,MONTH_ID,YEAR_ID,PRODUCTLINE,PHONE,ADDRESSLINE1,CITY,STATE,POSTALCODE,COUNTRY,CONTACTLASTNAME,CONTACTFIRSTNAME)\n",
            "  #\n",
            "  \n"
          ]
        }
      ]
    },
    {
      "cell_type": "code",
      "source": [
        "def prompt_input():\n",
        "  nlp_text = input(\"Enter your query \")\n",
        "  return nlp_text"
      ],
      "metadata": {
        "id": "MSTosLO65Ywy"
      },
      "execution_count": 14,
      "outputs": []
    },
    {
      "cell_type": "code",
      "source": [
        "prompt_input()"
      ],
      "metadata": {
        "colab": {
          "base_uri": "https://localhost:8080/",
          "height": 53
        },
        "id": "ry_KYqd259bZ",
        "outputId": "1853af0a-717d-4e94-a4d6-cb266c66229d"
      },
      "execution_count": 22,
      "outputs": [
        {
          "name": "stdout",
          "output_type": "stream",
          "text": [
            "Enter your query Get all emps\n"
          ]
        },
        {
          "output_type": "execute_result",
          "data": {
            "text/plain": [
              "'Get all emps'"
            ],
            "application/vnd.google.colaboratory.intrinsic+json": {
              "type": "string"
            }
          },
          "metadata": {},
          "execution_count": 22
        }
      ]
    },
    {
      "cell_type": "code",
      "source": [
        "def combine_prompt(df,query_prompt):\n",
        "  table_definition = create_table_def(df)\n",
        "  query_init_string = f\"\"\"### A query to answer: {query_prompt}\\nSELECT\"\"\"\n",
        "  return table_definition+query_init_string"
      ],
      "metadata": {
        "id": "2D6PaE6V5_kg"
      },
      "execution_count": 15,
      "outputs": []
    },
    {
      "cell_type": "code",
      "source": [
        "nlp_text = prompt_input()\n",
        "final_prompt = combine_prompt(df,nlp_text)\n",
        "print(final_prompt)"
      ],
      "metadata": {
        "colab": {
          "base_uri": "https://localhost:8080/"
        },
        "id": "rAv614sI9qj5",
        "outputId": "cebb3946-a3ce-408e-abf6-382589869cea"
      },
      "execution_count": 18,
      "outputs": [
        {
          "output_type": "stream",
          "name": "stdout",
          "text": [
            "Enter your query return the sum of sales per country\n",
            "### sqlite SQL table, with its properties:\n",
            "  #\n",
            "  # Sales(ORDERNUMBER,QUANTITYORDERED,PRICEEACH,SALES,ORDERDATE,QTR_ID,MONTH_ID,YEAR_ID,PRODUCTLINE,PHONE,ADDRESSLINE1,CITY,STATE,POSTALCODE,COUNTRY,CONTACTLASTNAME,CONTACTFIRSTNAME)\n",
            "  #\n",
            "  ### A query to answer: return the sum of sales per country\n",
            "SELECT\n"
          ]
        }
      ]
    },
    {
      "cell_type": "code",
      "source": [
        "from openai import OpenAI\n",
        "client = OpenAI()\n",
        "\n",
        "response = client.completions.create(\n",
        "    model='text-davinci-002',\n",
        "    prompt=combine_prompt(df,nlp_text),\n",
        "    temperature=0,\n",
        "    max_tokens=150,\n",
        "    top_p=1,\n",
        "    frequency_penalty=0,\n",
        "    presence_penalty=0,\n",
        "    stop=['#',';']\n",
        "\n",
        ")"
      ],
      "metadata": {
        "id": "Aak8sMaV9zra"
      },
      "execution_count": 36,
      "outputs": []
    },
    {
      "cell_type": "code",
      "source": [
        "response.choices[0].text"
      ],
      "metadata": {
        "colab": {
          "base_uri": "https://localhost:8080/",
          "height": 36
        },
        "id": "Ljr5_1NqJDxP",
        "outputId": "83ae927c-ec1a-40a2-ae50-2ddb8443f3c5"
      },
      "execution_count": 37,
      "outputs": [
        {
          "output_type": "execute_result",
          "data": {
            "text/plain": [
              "' country, sum(sales)\\nFROM Sales\\nGROUP BY country\\n\\n'"
            ],
            "application/vnd.google.colaboratory.intrinsic+json": {
              "type": "string"
            }
          },
          "metadata": {},
          "execution_count": 37
        }
      ]
    },
    {
      "cell_type": "code",
      "source": [
        "def handle_response(response):\n",
        "  query=response.choices[0].text\n",
        "  if(query.startswith(\" \")):\n",
        "    query= \"SELECT\"+ query\n",
        "  return query"
      ],
      "metadata": {
        "id": "EXNH-XR0Jlom"
      },
      "execution_count": 38,
      "outputs": []
    },
    {
      "cell_type": "code",
      "source": [
        "query_text = handle_response(response)"
      ],
      "metadata": {
        "id": "zPun0TvFLak5"
      },
      "execution_count": 40,
      "outputs": []
    },
    {
      "cell_type": "code",
      "source": [
        "with temp_db.connect() as conn:\n",
        "  result = conn.execute(text(query_text))"
      ],
      "metadata": {
        "colab": {
          "base_uri": "https://localhost:8080/"
        },
        "id": "ZEKAYS6oLej6",
        "outputId": "cd736220-cfc2-4de2-a87a-e7923b913ca5"
      },
      "execution_count": 48,
      "outputs": [
        {
          "output_type": "stream",
          "name": "stdout",
          "text": [
            "2023-12-24 14:23:09,101 INFO sqlalchemy.engine.Engine BEGIN (implicit)\n"
          ]
        },
        {
          "output_type": "stream",
          "name": "stderr",
          "text": [
            "INFO:sqlalchemy.engine.Engine:BEGIN (implicit)\n"
          ]
        },
        {
          "output_type": "stream",
          "name": "stdout",
          "text": [
            "2023-12-24 14:23:09,105 INFO sqlalchemy.engine.Engine SELECT country, sum(sales)\n",
            "FROM Sales\n",
            "GROUP BY country\n",
            "\n",
            "\n"
          ]
        },
        {
          "output_type": "stream",
          "name": "stderr",
          "text": [
            "INFO:sqlalchemy.engine.Engine:SELECT country, sum(sales)\n",
            "FROM Sales\n",
            "GROUP BY country\n",
            "\n",
            "\n"
          ]
        },
        {
          "output_type": "stream",
          "name": "stdout",
          "text": [
            "2023-12-24 14:23:09,108 INFO sqlalchemy.engine.Engine [cached since 255.4s ago] ()\n"
          ]
        },
        {
          "output_type": "stream",
          "name": "stderr",
          "text": [
            "INFO:sqlalchemy.engine.Engine:[cached since 255.4s ago] ()\n"
          ]
        },
        {
          "output_type": "stream",
          "name": "stdout",
          "text": [
            "2023-12-24 14:23:09,113 INFO sqlalchemy.engine.Engine ROLLBACK\n"
          ]
        },
        {
          "output_type": "stream",
          "name": "stderr",
          "text": [
            "INFO:sqlalchemy.engine.Engine:ROLLBACK\n"
          ]
        }
      ]
    },
    {
      "cell_type": "code",
      "source": [
        "result.all()"
      ],
      "metadata": {
        "colab": {
          "base_uri": "https://localhost:8080/"
        },
        "id": "iNEWImN4MWmJ",
        "outputId": "d0217fbf-4184-4dfd-97c9-c548b80c497f"
      },
      "execution_count": 49,
      "outputs": [
        {
          "output_type": "execute_result",
          "data": {
            "text/plain": [
              "[('Australia', 630623.1000000001),\n",
              " ('Austria', 202062.53),\n",
              " ('Belgium', 108412.62),\n",
              " ('Canada', 224078.55999999994),\n",
              " ('Denmark', 245637.15),\n",
              " ('Finland', 329581.9100000001),\n",
              " ('France', 1110916.5199999993),\n",
              " ('Germany', 220472.08999999994),\n",
              " ('Ireland', 57756.43),\n",
              " ('Italy', 374674.30999999976),\n",
              " ('Japan', 188167.80999999997),\n",
              " ('Norway', 307463.7000000001),\n",
              " ('Philippines', 94015.73),\n",
              " ('Singapore', 288488.41000000003),\n",
              " ('Spain', 1215686.9200000009),\n",
              " ('Sweden', 210014.21),\n",
              " ('Switzerland', 117713.55999999998),\n",
              " ('UK', 478880.4600000001),\n",
              " ('USA', 3627982.83)]"
            ]
          },
          "metadata": {},
          "execution_count": 49
        }
      ]
    },
    {
      "cell_type": "code",
      "source": [],
      "metadata": {
        "id": "3yKbhSxcNClh"
      },
      "execution_count": null,
      "outputs": []
    }
  ]
}