{
  "cells": [
    {
      "cell_type": "markdown",
      "id": "ede50d4d-6b9b-46b4-946c-edc6bde899c7",
      "metadata": {
        "id": "ede50d4d-6b9b-46b4-946c-edc6bde899c7"
      },
      "source": [
        "<a href = \"https://www.pieriantraining.com\"><img src=\"../PT Centered Purple.png\"> </a>\n",
        "\n",
        "<em style=\"text-align:center\">Copyrighted by Guruprasad</em>"
      ]
    },
    {
      "cell_type": "markdown",
      "id": "6c706772-7bbb-41a9-ab96-6480bc3ef2a3",
      "metadata": {
        "tags": [],
        "id": "6c706772-7bbb-41a9-ab96-6480bc3ef2a3"
      },
      "source": [
        "# Prompts and Models Project\n",
        "\n",
        "\n",
        "**TASK: Create a Python function that uses Prompts and Chat internally to give travel ideas related to two variables:**\n",
        "\n",
        "    * An Interest or Hobby\n",
        "    * A Budget\n",
        "    \n",
        "Remember that we should also decide on a system prompt. The end function will just be a nice wrapper on top of all the previous LangChain components."
      ]
    },
    {
      "cell_type": "code",
      "execution_count": null,
      "id": "b4e6adae-ddfa-403f-afbc-eac1ff964c54",
      "metadata": {
        "id": "b4e6adae-ddfa-403f-afbc-eac1ff964c54"
      },
      "outputs": [],
      "source": [
        "def travel_idea(interest,budget):\n",
        "    '''\n",
        "    INPUTS:\n",
        "        interest: A str interest or hobby (e.g. fishing)\n",
        "        budget: A str budget (e.g. $10,000)\n",
        "    '''\n",
        "    pass"
      ]
    },
    {
      "cell_type": "markdown",
      "id": "34d0ecc5-a526-4a9b-933f-e7785f9401df",
      "metadata": {
        "id": "34d0ecc5-a526-4a9b-933f-e7785f9401df"
      },
      "source": [
        "** Solution**"
      ]
    },
    {
      "cell_type": "code",
      "execution_count": null,
      "id": "320be1cb-a639-460d-8472-fb6def536b19",
      "metadata": {
        "id": "320be1cb-a639-460d-8472-fb6def536b19"
      },
      "outputs": [],
      "source": [
        "!pip install openai"
      ]
    },
    {
      "cell_type": "code",
      "source": [
        "!pip install --upgrade langchain"
      ],
      "metadata": {
        "id": "1v4IXqwz3XCl"
      },
      "id": "1v4IXqwz3XCl",
      "execution_count": null,
      "outputs": []
    },
    {
      "cell_type": "code",
      "execution_count": 13,
      "id": "df2fd2ad-66f9-4462-9436-5cc5e7ea2d7f",
      "metadata": {
        "id": "df2fd2ad-66f9-4462-9436-5cc5e7ea2d7f"
      },
      "outputs": [],
      "source": [
        "import langchain\n",
        "from langchain.chat_models import ChatOpenAI\n",
        "from langchain.prompts import PromptTemplate, ChatPromptTemplate, HumanMessagePromptTemplate, SystemMessagePromptTemplate, AIMessagePromptTemplate\n",
        "from langchain.schema import AIMessage, HumanMessage, SystemMessage\n",
        "import os\n",
        "\n",
        "api_key = os.getenv('OPENAI_API_KEY')\n",
        "chat = ChatOpenAI(openai_api_key=api_key)\n",
        "\n",
        "def travel_idea(interest,budget):\n",
        "    '''\n",
        "    INPUTS:\n",
        "        interest: A str interest or hobby (e.g. fishing)\n",
        "        budget: A str budget (e.g. $10,000)\n",
        "    '''\n",
        "\n",
        "    system_template=\"You are a travel agent that helps people plan trips about {interest} on a budget of {budget}\"\n",
        "    system_message_prompt = SystemMessagePromptTemplate.from_template(system_template)\n",
        "\n",
        "    human_template=\"{travel_request}\"\n",
        "    human_message_prompt = HumanMessagePromptTemplate.from_template(human_template)\n",
        "\n",
        "    chat_promt = ChatPromptTemplate.from_messages([system_message_prompt,human_message_prompt])\n",
        "\n",
        "    prompt = chat_promt.format_prompt(\n",
        "    interest=interest,\n",
        "    budget=budget,\n",
        "    travel_request = \"Please give me an example itinerary\"\n",
        ").to_messages()\n",
        "\n",
        "    responses = chat(prompt)\n",
        "\n",
        "    return responses.content"
      ]
    },
    {
      "cell_type": "code",
      "execution_count": 14,
      "id": "f7e240b6-96cf-4163-ad19-90a44cf7ef24",
      "metadata": {
        "colab": {
          "base_uri": "https://localhost:8080/"
        },
        "id": "f7e240b6-96cf-4163-ad19-90a44cf7ef24",
        "outputId": "266f8027-f123-4cef-e218-8812196ef159"
      },
      "outputs": [
        {
          "output_type": "stream",
          "name": "stdout",
          "text": [
            "Sure! Here's an example itinerary for a fishing trip on a budget of $10,000:\n",
            "\n",
            "Day 1-3: Arrival in Anchorage, Alaska\n",
            "- Fly into Anchorage and check into a budget-friendly hotel.\n",
            "- Spend the first day exploring the city and preparing for the fishing adventure.\n",
            "- On day 2, head to a local fishing supply store to purchase any necessary gear and licenses.\n",
            "- On day 3, take a guided fishing tour on the Kenai River for salmon fishing. This is a great opportunity to catch various salmon species, including the famous King Salmon.\n",
            "\n",
            "Day 4-6: Seward, Alaska\n",
            "- Drive to Seward, a picturesque coastal town known for its excellent saltwater fishing opportunities.\n",
            "- Book a budget-friendly fishing charter for a day of deep-sea fishing for halibut and other saltwater species.\n",
            "- Spend the next couple of days exploring Seward, visiting the Alaska SeaLife Center and hiking in the nearby Kenai Fjords National Park.\n",
            "\n",
            "Day 7-9: Missoula, Montana\n",
            "- Fly to Missoula, Montana, a renowned fly-fishing destination.\n",
            "- Check into a budget-friendly lodge near the famous Blackfoot or Bitterroot rivers.\n",
            "- Hire a local guide for a day of fly-fishing, targeting trout species like rainbow, brown, and cutthroat.\n",
            "- Spend the remaining days exploring the beautiful Montana wilderness, hiking, or visiting nearby attractions.\n",
            "\n",
            "Day 10-12: Bighorn River, Montana\n",
            "- Drive to the Bighorn River, known for its exceptional trout fishing.\n",
            "- Stay in a budget-friendly cabin or lodge near Fort Smith, Montana.\n",
            "- Hire a local guide for a full-day float trip on the Bighorn River, targeting trophy-sized brown and rainbow trout.\n",
            "- Spend the remaining days wading in the river, fishing from the shore, or simply enjoying the serene surroundings.\n",
            "\n",
            "Day 13-14: Departure\n",
            "- Drive back to Missoula and fly out to your home destination.\n",
            "\n",
            "This itinerary offers a mix of freshwater and saltwater fishing experiences, allowing you to catch various fish species while exploring beautiful fishing destinations. Remember to factor in the cost of flights, accommodations, meals, and fishing licenses when planning your budget.\n"
          ]
        }
      ],
      "source": [
        "print(travel_idea('fishing','$10,000'))"
      ]
    },
    {
      "cell_type": "code",
      "source": [],
      "metadata": {
        "id": "3UPIk7wL41yg"
      },
      "id": "3UPIk7wL41yg",
      "execution_count": null,
      "outputs": []
    }
  ],
  "metadata": {
    "kernelspec": {
      "display_name": "Python 3 (ipykernel)",
      "language": "python",
      "name": "python3"
    },
    "language_info": {
      "codemirror_mode": {
        "name": "ipython",
        "version": 3
      },
      "file_extension": ".py",
      "mimetype": "text/x-python",
      "name": "python",
      "nbconvert_exporter": "python",
      "pygments_lexer": "ipython3",
      "version": "3.9.12"
    },
    "colab": {
      "provenance": []
    }
  },
  "nbformat": 4,
  "nbformat_minor": 5
}