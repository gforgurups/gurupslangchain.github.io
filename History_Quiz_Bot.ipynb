{
  "cells": [
    {
      "cell_type": "markdown",
      "id": "6f36f621-d2cb-43e7-89ad-41691ab266c1",
      "metadata": {
        "id": "6f36f621-d2cb-43e7-89ad-41691ab266c1"
      },
      "source": [
        "## History Quiz\n",
        "\n",
        "Our main goal is to use LangChain and Python to create a very simple class with a few methods for:\n",
        "* Writing a historical question that has a date as the correct answer\n",
        "* Getting the correct answer from LLM\n",
        "* Getting a Human user's best guess at at correct answer\n",
        "* Checking/reporting the difference between the correct answer and the user answer"
      ]
    },
    {
      "cell_type": "markdown",
      "source": [
        "### Setup"
      ],
      "metadata": {
        "id": "6pBI3qBoKju5"
      },
      "id": "6pBI3qBoKju5"
    },
    {
      "cell_type": "code",
      "source": [
        "!pip install openai\n",
        "!pip install --upgrade langchain"
      ],
      "metadata": {
        "id": "kmpJrMnvKjEi"
      },
      "id": "kmpJrMnvKjEi",
      "execution_count": null,
      "outputs": []
    },
    {
      "cell_type": "code",
      "source": [
        "import os\n",
        "#os.environ['OPENAI_API_KEY'] = ''\n",
        "api_key = os.getenv('OPENAI_API_KEY')"
      ],
      "metadata": {
        "id": "74SncafqLJ6d"
      },
      "id": "74SncafqLJ6d",
      "execution_count": 3,
      "outputs": []
    },
    {
      "cell_type": "markdown",
      "id": "6421bf0c-6aca-4291-9aaf-473b78b9be77",
      "metadata": {
        "id": "6421bf0c-6aca-4291-9aaf-473b78b9be77"
      },
      "source": [
        "### Imports\n",
        "\n"
      ]
    },
    {
      "cell_type": "code",
      "execution_count": 4,
      "id": "3cde30a6-5b0b-475f-9460-809e174cac97",
      "metadata": {
        "id": "3cde30a6-5b0b-475f-9460-809e174cac97"
      },
      "outputs": [],
      "source": [
        "from langchain.prompts import (\n",
        "    ChatPromptTemplate,\n",
        "    PromptTemplate,\n",
        "    SystemMessagePromptTemplate,\n",
        "    AIMessagePromptTemplate,\n",
        "    HumanMessagePromptTemplate,\n",
        ")\n",
        "from datetime import datetime\n",
        "from langchain.llms import OpenAI\n",
        "from langchain.output_parsers import DatetimeOutputParser\n",
        "from langchain.chat_models import ChatOpenAI"
      ]
    },
    {
      "cell_type": "code",
      "execution_count": 60,
      "id": "c1e1fce6-7f28-4d74-a92b-0424c6abcd30",
      "metadata": {
        "id": "c1e1fce6-7f28-4d74-a92b-0424c6abcd30"
      },
      "outputs": [],
      "source": [
        "\n",
        "class HistoryQuiz():\n",
        "\n",
        "\n",
        "    def __init__(self):\n",
        "        self.chat = ChatOpenAI(api_key=api_key)\n",
        "        self.datetimeoutputparser = DatetimeOutputParser()\n",
        "\n",
        "\n",
        "    def create_history_question(self,topic):\n",
        "        '''\n",
        "        This method should output a historical question about the topic that has a date as the correct answer.\n",
        "        For example:\n",
        "\n",
        "            \"On what date did World War 2 end?\"\n",
        "\n",
        "        '''\n",
        "        system_message_prompt = SystemMessagePromptTemplate.from_template(\"You are going to respond with historical question related to {topic} that has a date\")\n",
        "        human_message_prompt = HumanMessagePromptTemplate.from_template(\"{topic}\")\n",
        "        chat_prompt = ChatPromptTemplate.from_messages([system_message_prompt, human_message_prompt])\n",
        "        prompt = chat_prompt.format_prompt(topic=topic).to_messages()\n",
        "        question = self.chat(prompt)\n",
        "        return question.content\n",
        "\n",
        "    def get_AI_answer(self,question):\n",
        "        '''\n",
        "        This method should get the answer to the historical question from the method above.\n",
        "        Note: This answer must be in datetime format! Use DateTimeOutputParser to confirm!\n",
        "\n",
        "        September 2, 1945 --> datetime.datetime(1945, 9, 2, 0, 0)\n",
        "        '''\n",
        "        system_message_prompt = SystemMessagePromptTemplate.from_template(\"You are going to respond with only Date for the question\")\n",
        "        human_message_prompt = HumanMessagePromptTemplate.from_template(\"{topic}\\n{Instruction}\")\n",
        "        chat_prompt = ChatPromptTemplate.from_messages([system_message_prompt, human_message_prompt])\n",
        "        prompt = chat_prompt.format_prompt(topic=question,Instruction=self.datetimeoutputparser.get_format_instructions()).to_messages()\n",
        "        correct_datetime = self.chat(prompt)\n",
        "        return self.datetimeoutputparser.parse(correct_datetime.content)\n",
        "\n",
        "    def get_user_answer(self,question):\n",
        "        '''\n",
        "        This method should grab a user answer and convert it to datetime. It should collect a Year, Month, and Day.\n",
        "        You can just use input() for this.\n",
        "        '''\n",
        "        print(question)\n",
        "        year = input(\"Enter the year: \")\n",
        "        month = input(\"Enter the month: \")\n",
        "        day = input(\"Enter the day: \")\n",
        "        user_datetime = datetime(int(year),int(month),int(day))\n",
        "\n",
        "        return user_datetime\n",
        "\n",
        "\n",
        "    def check_user_answer(self,user_answer,ai_answer):\n",
        "        '''\n",
        "        Should check the user answer against the AI answer and return the difference between them\n",
        "        '''\n",
        "        # print or return the difference between the answers here!\n",
        "        return user_answer - ai_answer\n",
        ""
      ]
    },
    {
      "cell_type": "markdown",
      "id": "ff79a31c-3189-48d2-b1af-bf1a9eef9e1c",
      "metadata": {
        "id": "ff79a31c-3189-48d2-b1af-bf1a9eef9e1c"
      },
      "source": [
        "### Example Usage\n",
        "\n",
        "Feel free to expand or edit this project. To keep things simple we have every method return an object that will then feed into a new method!"
      ]
    },
    {
      "cell_type": "code",
      "execution_count": 61,
      "id": "937e4900-1148-4836-835b-dd2936b8e30e",
      "metadata": {
        "colab": {
          "base_uri": "https://localhost:8080/"
        },
        "id": "937e4900-1148-4836-835b-dd2936b8e30e",
        "outputId": "7de58bd0-477a-4748-9443-be399566d317"
      },
      "outputs": [
        {
          "output_type": "stream",
          "name": "stderr",
          "text": [
            "WARNING:langchain.chat_models.openai:WARNING! api_key is not default parameter.\n",
            "                    api_key was transferred to model_kwargs.\n",
            "                    Please confirm that api_key is what you intended.\n"
          ]
        }
      ],
      "source": [
        "quiz_bot = HistoryQuiz()"
      ]
    },
    {
      "cell_type": "code",
      "execution_count": 62,
      "id": "5dd56ef3-819d-4996-b9a5-1cfad88e5eed",
      "metadata": {
        "id": "5dd56ef3-819d-4996-b9a5-1cfad88e5eed"
      },
      "outputs": [],
      "source": [
        "question = quiz_bot.create_history_question(topic='World War 2')"
      ]
    },
    {
      "cell_type": "code",
      "source": [
        "question"
      ],
      "metadata": {
        "colab": {
          "base_uri": "https://localhost:8080/",
          "height": 35
        },
        "id": "9zfLC13ZPtf_",
        "outputId": "d014600d-3133-4f8a-bdda-34c468de8016"
      },
      "id": "9zfLC13ZPtf_",
      "execution_count": 63,
      "outputs": [
        {
          "output_type": "execute_result",
          "data": {
            "text/plain": [
              "'On what date did Germany invade Poland, officially marking the beginning of World War II?'"
            ],
            "application/vnd.google.colaboratory.intrinsic+json": {
              "type": "string"
            }
          },
          "metadata": {},
          "execution_count": 63
        }
      ]
    },
    {
      "cell_type": "code",
      "execution_count": 64,
      "id": "c86320ce-4497-4eb0-80f5-871736cb51e7",
      "metadata": {
        "id": "c86320ce-4497-4eb0-80f5-871736cb51e7"
      },
      "outputs": [],
      "source": [
        "ai_answer = quiz_bot.get_AI_answer(question)"
      ]
    },
    {
      "cell_type": "code",
      "source": [
        "ai_answer"
      ],
      "metadata": {
        "colab": {
          "base_uri": "https://localhost:8080/"
        },
        "id": "khg8hJ_-Q-sh",
        "outputId": "7ed6b71c-6d41-4acf-cade-ff7b784a3965"
      },
      "id": "khg8hJ_-Q-sh",
      "execution_count": 65,
      "outputs": [
        {
          "output_type": "execute_result",
          "data": {
            "text/plain": [
              "datetime.datetime(1939, 9, 1, 0, 0)"
            ]
          },
          "metadata": {},
          "execution_count": 65
        }
      ]
    },
    {
      "cell_type": "code",
      "execution_count": 66,
      "id": "d8537e7e-b955-4ffd-84ba-a26d072b4a05",
      "metadata": {
        "colab": {
          "base_uri": "https://localhost:8080/"
        },
        "id": "d8537e7e-b955-4ffd-84ba-a26d072b4a05",
        "outputId": "19f16e77-30eb-45a7-dad2-429638372f01"
      },
      "outputs": [
        {
          "name": "stdout",
          "output_type": "stream",
          "text": [
            "On what date did Germany invade Poland, officially marking the beginning of World War II?\n",
            "Enter the year: 1938\n",
            "Enter the month: 9\n",
            "Enter the day: 1\n"
          ]
        }
      ],
      "source": [
        "user_answer = quiz_bot.get_user_answer(question)"
      ]
    },
    {
      "cell_type": "code",
      "execution_count": 67,
      "id": "e8eb40a9-789e-4666-81a6-a6a783dedaf6",
      "metadata": {
        "colab": {
          "base_uri": "https://localhost:8080/"
        },
        "id": "e8eb40a9-789e-4666-81a6-a6a783dedaf6",
        "outputId": "086e830e-8d72-439d-8246-ecc3bb295959"
      },
      "outputs": [
        {
          "output_type": "execute_result",
          "data": {
            "text/plain": [
              "datetime.datetime(1938, 9, 1, 0, 0)"
            ]
          },
          "metadata": {},
          "execution_count": 67
        }
      ],
      "source": [
        "user_answer"
      ]
    },
    {
      "cell_type": "code",
      "execution_count": 68,
      "id": "e22a7cf0-f199-4ace-a909-c73492e86e47",
      "metadata": {
        "colab": {
          "base_uri": "https://localhost:8080/"
        },
        "id": "e22a7cf0-f199-4ace-a909-c73492e86e47",
        "outputId": "64709b07-00f1-4214-db51-188c473ffd1c"
      },
      "outputs": [
        {
          "output_type": "execute_result",
          "data": {
            "text/plain": [
              "datetime.timedelta(days=-365)"
            ]
          },
          "metadata": {},
          "execution_count": 68
        }
      ],
      "source": [
        "quiz_bot.check_user_answer(user_answer,ai_answer)"
      ]
    }
  ],
  "metadata": {
    "kernelspec": {
      "display_name": "Python 3 (ipykernel)",
      "language": "python",
      "name": "python3"
    },
    "language_info": {
      "codemirror_mode": {
        "name": "ipython",
        "version": 3
      },
      "file_extension": ".py",
      "mimetype": "text/x-python",
      "name": "python",
      "nbconvert_exporter": "python",
      "pygments_lexer": "ipython3",
      "version": "3.9.12"
    },
    "colab": {
      "provenance": []
    }
  },
  "nbformat": 4,
  "nbformat_minor": 5
}