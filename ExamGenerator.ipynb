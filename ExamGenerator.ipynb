{
  "nbformat": 4,
  "nbformat_minor": 0,
  "metadata": {
    "colab": {
      "provenance": [],
      "authorship_tag": "ABX9TyMB4bgIsED+tVMk6smAbAtK",
      "include_colab_link": true
    },
    "kernelspec": {
      "name": "python3",
      "display_name": "Python 3"
    },
    "language_info": {
      "name": "python"
    }
  },
  "cells": [
    {
      "cell_type": "markdown",
      "metadata": {
        "id": "view-in-github",
        "colab_type": "text"
      },
      "source": [
        "<a href=\"https://colab.research.google.com/github/gforgurups/langchain/blob/main/ExamGenerator.ipynb\" target=\"_parent\"><img src=\"https://colab.research.google.com/assets/colab-badge.svg\" alt=\"Open In Colab\"/></a>"
      ]
    },
    {
      "cell_type": "code",
      "execution_count": null,
      "metadata": {
        "id": "jrPwP0i1iOBN"
      },
      "outputs": [],
      "source": [
        "!pip install openai"
      ]
    },
    {
      "cell_type": "code",
      "source": [
        "import openai\n",
        "import os\n",
        "import pandas as pd"
      ],
      "metadata": {
        "id": "mHOeIXQNiljv"
      },
      "execution_count": 2,
      "outputs": []
    },
    {
      "cell_type": "code",
      "source": [
        "\n",
        "openai.api_key=os.getenv(\"OPENAI_API_KEY\")"
      ],
      "metadata": {
        "id": "I87ZqSVciSKR"
      },
      "execution_count": 3,
      "outputs": []
    },
    {
      "cell_type": "code",
      "source": [
        "def create_exam_prompt(topic,numberOfQuestions,numberOfPossibleAnswers):\n",
        "  prompt = f\"\"\"Create a multiple choice quiz on the topic {topic}\n",
        "  consisting of {numberOfQuestions} questions and each question should have\n",
        "  {numberOfPossibleAnswers} options. Also include the correct answer for each question\n",
        "  using the starting string 'Correct Answer:'  \"\"\"\n",
        "  return prompt"
      ],
      "metadata": {
        "id": "YJwdPltrioR_"
      },
      "execution_count": 6,
      "outputs": []
    },
    {
      "cell_type": "code",
      "source": [
        "create_exam_prompt('PythonQuiz',4,4)"
      ],
      "metadata": {
        "colab": {
          "base_uri": "https://localhost:8080/",
          "height": 53
        },
        "id": "JhTVzHMmlbNy",
        "outputId": "a96d2eca-8ec8-4b05-8d57-f12e34fd84d1"
      },
      "execution_count": 8,
      "outputs": [
        {
          "output_type": "execute_result",
          "data": {
            "text/plain": [
              "\"Create a multiple choice quiz on the topic PythonQuiz \\n  consisting of 4 questions and each question should have\\n  4 options. Also include the correct answer for each question\\n  using the starting string 'Correct Answer:'  \""
            ],
            "application/vnd.google.colaboratory.intrinsic+json": {
              "type": "string"
            }
          },
          "metadata": {},
          "execution_count": 8
        }
      ]
    },
    {
      "cell_type": "code",
      "source": [
        "from openai import OpenAI\n",
        "client = OpenAI()\n",
        "\n",
        "response = client.completions.create(\n",
        "    model='text-davinci-002',\n",
        "    prompt=create_exam_prompt('Wayfair India Development center history',4,4),\n",
        "    temperature=0.7,\n",
        "    max_tokens=256\n",
        "\n",
        ")"
      ],
      "metadata": {
        "id": "2bYFFNxmle8h"
      },
      "execution_count": 12,
      "outputs": []
    },
    {
      "cell_type": "code",
      "source": [
        "print(response.choices[0].text)"
      ],
      "metadata": {
        "colab": {
          "base_uri": "https://localhost:8080/"
        },
        "id": "xrT1Qs2um0y2",
        "outputId": "dce1774d-300e-455d-a29c-c8c3e9105c27"
      },
      "execution_count": 13,
      "outputs": [
        {
          "output_type": "stream",
          "name": "stdout",
          "text": [
            "\n",
            "\n",
            "1. How many Wayfair India Development centers are there? \n",
            "A. 1 \n",
            "B. 2 \n",
            "C. 3 \n",
            "D. 4 \n",
            "\n",
            "Correct Answer: B \n",
            "\n",
            "2. What is the name of the first Wayfair India Development center? \n",
            "A. Mumbai \n",
            "B. Pune  \n",
            "C. Bangalore \n",
            "D. Chennai \n",
            "\n",
            "Correct Answer: C \n",
            "\n",
            "3. When was the Wayfair India Development center founded? \n",
            "A. 2012 \n",
            "B. 2013 \n",
            "C. 2014 \n",
            "D. 2015 \n",
            "\n",
            "Correct Answer: A \n",
            "\n",
            "4. How many employees work at the Wayfair India Development center? \n",
            "A. 250 \n",
            "B. 500 \n",
            "C. 750 \n",
            "D. 1000 \n",
            "\n",
            "Correct Answer: D\n"
          ]
        }
      ]
    },
    {
      "cell_type": "code",
      "source": [
        "response.choices[0].text"
      ],
      "metadata": {
        "colab": {
          "base_uri": "https://localhost:8080/",
          "height": 70
        },
        "id": "0469LumDnA1V",
        "outputId": "5eb21579-b4d9-45e1-c88f-3ca723dcb9d5"
      },
      "execution_count": 14,
      "outputs": [
        {
          "output_type": "execute_result",
          "data": {
            "text/plain": [
              "'\\n\\n1. How many Wayfair India Development centers are there? \\nA. 1 \\nB. 2 \\nC. 3 \\nD. 4 \\n\\nCorrect Answer: B \\n\\n2. What is the name of the first Wayfair India Development center? \\nA. Mumbai \\nB. Pune  \\nC. Bangalore \\nD. Chennai \\n\\nCorrect Answer: C \\n\\n3. When was the Wayfair India Development center founded? \\nA. 2012 \\nB. 2013 \\nC. 2014 \\nD. 2015 \\n\\nCorrect Answer: A \\n\\n4. How many employees work at the Wayfair India Development center? \\nA. 250 \\nB. 500 \\nC. 750 \\nD. 1000 \\n\\nCorrect Answer: D'"
            ],
            "application/vnd.google.colaboratory.intrinsic+json": {
              "type": "string"
            }
          },
          "metadata": {},
          "execution_count": 14
        }
      ]
    },
    {
      "cell_type": "code",
      "source": [
        "def create_student_view(test,numberOfQuestions):\n",
        "  student_view={1:''}\n",
        "  answers={1:''}\n",
        "  question_number=1\n",
        "  for line in test.split(\"\\n\"):\n",
        "    if not line.startswith(\"Correct Answer:\"):\n",
        "      student_view[question_number]+=line+\"\\n\"\n",
        "    else:\n",
        "      if(question_number<numberOfQuestions):\n",
        "        answers[question_number]+=line+\"\\n\"\n",
        "        question_number+=1\n",
        "        student_view[question_number]=''\n",
        "        answers[question_number]=''\n",
        "  answers[question_number]+=line+\"\\n\"\n",
        "\n",
        "  return  student_view,answers"
      ],
      "metadata": {
        "id": "mY4wquCTy4ZW"
      },
      "execution_count": 33,
      "outputs": []
    },
    {
      "cell_type": "code",
      "source": [
        "result,answers = create_student_view(response.choices[0].text,4)"
      ],
      "metadata": {
        "id": "oZDxADb11Qb_"
      },
      "execution_count": 34,
      "outputs": []
    },
    {
      "cell_type": "code",
      "source": [
        "for key in result:\n",
        "  print(result[key])\n",
        "\n",
        "for key in answers:\n",
        "  print(answers[key])"
      ],
      "metadata": {
        "colab": {
          "base_uri": "https://localhost:8080/"
        },
        "id": "449ETr5r1V3c",
        "outputId": "7cbc10fa-4468-49b4-9be9-c18796ef634d"
      },
      "execution_count": 38,
      "outputs": [
        {
          "output_type": "stream",
          "name": "stdout",
          "text": [
            "\n",
            "\n",
            "1. How many Wayfair India Development centers are there? \n",
            "A. 1 \n",
            "B. 2 \n",
            "C. 3 \n",
            "D. 4 \n",
            "\n",
            "\n",
            "\n",
            "2. What is the name of the first Wayfair India Development center? \n",
            "A. Mumbai \n",
            "B. Pune  \n",
            "C. Bangalore \n",
            "D. Chennai \n",
            "\n",
            "\n",
            "\n",
            "3. When was the Wayfair India Development center founded? \n",
            "A. 2012 \n",
            "B. 2013 \n",
            "C. 2014 \n",
            "D. 2015 \n",
            "\n",
            "\n",
            "\n",
            "4. How many employees work at the Wayfair India Development center? \n",
            "A. 250 \n",
            "B. 500 \n",
            "C. 750 \n",
            "D. 1000 \n",
            "\n",
            "\n",
            "Correct Answer: B \n",
            "\n",
            "Correct Answer: C \n",
            "\n",
            "Correct Answer: A \n",
            "\n",
            "Correct Answer: D\n",
            "\n"
          ]
        }
      ]
    },
    {
      "cell_type": "code",
      "source": [
        "def take_test(test):\n",
        "  student_answers={}\n",
        "  for question_num, question_view in test.items():\n",
        "    print(question_view)\n",
        "    student_answer = input(\"Enter your answer: \")\n",
        "    student_answers[question_num]=student_answer\n",
        "  return student_answers\n"
      ],
      "metadata": {
        "id": "sflT0vH61xw2"
      },
      "execution_count": 41,
      "outputs": []
    },
    {
      "cell_type": "code",
      "source": [
        "ans = take_test(result)\n",
        "print(ans)"
      ],
      "metadata": {
        "colab": {
          "base_uri": "https://localhost:8080/"
        },
        "id": "H7JatjXu7VT_",
        "outputId": "f94800b4-02a5-45d5-c665-568f4d3f434a"
      },
      "execution_count": 42,
      "outputs": [
        {
          "output_type": "stream",
          "name": "stdout",
          "text": [
            "\n",
            "\n",
            "1. How many Wayfair India Development centers are there? \n",
            "A. 1 \n",
            "B. 2 \n",
            "C. 3 \n",
            "D. 4 \n",
            "\n",
            "\n",
            "Enter your answer: 3\n",
            "\n",
            "2. What is the name of the first Wayfair India Development center? \n",
            "A. Mumbai \n",
            "B. Pune  \n",
            "C. Bangalore \n",
            "D. Chennai \n",
            "\n",
            "\n",
            "Enter your answer: c\n",
            "\n",
            "3. When was the Wayfair India Development center founded? \n",
            "A. 2012 \n",
            "B. 2013 \n",
            "C. 2014 \n",
            "D. 2015 \n",
            "\n",
            "\n",
            "Enter your answer: d\n",
            "\n",
            "4. How many employees work at the Wayfair India Development center? \n",
            "A. 250 \n",
            "B. 500 \n",
            "C. 750 \n",
            "D. 1000 \n",
            "\n",
            "\n",
            "Enter your answer: a\n",
            "{1: '3', 2: 'c', 3: 'd', 4: 'a'}\n"
          ]
        }
      ]
    },
    {
      "cell_type": "code",
      "source": [
        "print(answers)\n",
        "print(ans)"
      ],
      "metadata": {
        "colab": {
          "base_uri": "https://localhost:8080/"
        },
        "id": "U2w_pulJ9PvV",
        "outputId": "51fd6955-454d-466b-9ea9-66778462fc3c"
      },
      "execution_count": 55,
      "outputs": [
        {
          "output_type": "stream",
          "name": "stdout",
          "text": [
            "{1: 'Correct Answer: B \\n', 2: 'Correct Answer: C \\n', 3: 'Correct Answer: A \\n', 4: 'Correct Answer: D\\n'}\n",
            "{1: '3', 2: 'c', 3: 'd', 4: 'a'}\n"
          ]
        }
      ]
    },
    {
      "cell_type": "code",
      "source": [],
      "metadata": {
        "id": "xLV-1ZID9Prv"
      },
      "execution_count": null,
      "outputs": []
    },
    {
      "cell_type": "code",
      "source": [
        "total_score=4\n",
        "correct_ans=0\n",
        "for k,v in answers.items():\n",
        "  if(ans[k].lower() == answers[k][16].lower()):\n",
        "    correct_ans+=1\n",
        "\n",
        "print(\"Total marks: \"+str(correct_ans))\n",
        "print(\"Total percentage: \"+str((correct_ans/total_score)*100))"
      ],
      "metadata": {
        "colab": {
          "base_uri": "https://localhost:8080/"
        },
        "id": "Kd7RLalY7bD0",
        "outputId": "8d24aa47-e714-4d51-9a86-7c5838ccc855"
      },
      "execution_count": 54,
      "outputs": [
        {
          "output_type": "stream",
          "name": "stdout",
          "text": [
            "Total marks: 1\n",
            "Total percentage: 25.0\n"
          ]
        }
      ]
    },
    {
      "cell_type": "code",
      "source": [],
      "metadata": {
        "id": "zHZxMXvT8vVV"
      },
      "execution_count": null,
      "outputs": []
    }
  ]
}