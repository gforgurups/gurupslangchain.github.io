{
  "cells": [
    {
      "cell_type": "markdown",
      "id": "728f1747-b8fc-4d31-96c2-047fc83c079d",
      "metadata": {
        "id": "728f1747-b8fc-4d31-96c2-047fc83c079d"
      },
      "source": [
        "#  Document Loading Exercise\n",
        "\n",
        "## Answering a Single Question\n",
        "\n",
        "Using the Wikipedia Document Loader Integration, make a function that accepts a famous historical figure name and a question about them, and then use a ChatModel to answer questions with the additional context?"
      ]
    },
    {
      "cell_type": "code",
      "execution_count": null,
      "id": "244f42d8-2349-446e-a1c2-ae4b8d3ee38f",
      "metadata": {
        "id": "244f42d8-2349-446e-a1c2-ae4b8d3ee38f"
      },
      "outputs": [],
      "source": [
        "!pip install openai\n",
        "!pip install --upgrade langchain\n",
        "!pip install wikipedia"
      ]
    },
    {
      "cell_type": "code",
      "execution_count": 6,
      "id": "2a539244-89c6-4019-8608-1cdf51ba1983",
      "metadata": {
        "id": "2a539244-89c6-4019-8608-1cdf51ba1983"
      },
      "outputs": [],
      "source": [
        "from langchain.prompts import (\n",
        "    ChatPromptTemplate,\n",
        "    SystemMessagePromptTemplate,\n",
        "    HumanMessagePromptTemplate,\n",
        ")\n",
        "from langchain.chat_models import ChatOpenAI\n",
        "from langchain.document_loaders import WikipediaLoader\n",
        "import os\n",
        "\n",
        "api_key = os.getenv('OPENAI_API_KEY')\n",
        "chat = ChatOpenAI(openai_api_key=api_key)\n",
        "\n",
        "def answer_question_about(person_name,question):\n",
        "\n",
        "    '''\n",
        "    Use the Wikipedia Document Loader to help answer questions about someone, insert it as additional helpful context.\n",
        "    '''\n",
        "    additional_context = WikipediaLoader(query=person_name, load_max_docs=2).load()\n",
        "    system_prompt = SystemMessagePromptTemplate.from_template(\"Given the content \\n {context}\")\n",
        "    human_prompt = HumanMessagePromptTemplate.from_template(\"Answer user's question \\n {question}\")\n",
        "    chat_prompt = ChatPromptTemplate.from_messages([system_prompt,human_prompt])\n",
        "    prompt = chat_prompt.format_prompt(context=additional_context,question=question).to_messages()\n",
        "    answer = chat(prompt)\n",
        "    return answer.content"
      ]
    },
    {
      "cell_type": "code",
      "execution_count": 7,
      "id": "e3a43963-57d4-44c5-8d28-b6164b2c0b83",
      "metadata": {
        "colab": {
          "base_uri": "https://localhost:8080/",
          "height": 35
        },
        "id": "e3a43963-57d4-44c5-8d28-b6164b2c0b83",
        "outputId": "198b77f6-83d2-46d1-e6da-4b56c59897d1"
      },
      "outputs": [
        {
          "output_type": "execute_result",
          "data": {
            "text/plain": [
              "'Claude Elwood Shannon was born on April 30, 1916.'"
            ],
            "application/vnd.google.colaboratory.intrinsic+json": {
              "type": "string"
            }
          },
          "metadata": {},
          "execution_count": 7
        }
      ],
      "source": [
        "answer_question_about(\"Claude Shannon\",\"When was he born?\")\n",
        "# Claude Elwood Shannon was born on April 30, 1916."
      ]
    },
    {
      "cell_type": "code",
      "execution_count": 10,
      "id": "b9074e58-b4af-4a21-a503-a0c58621a7a3",
      "metadata": {
        "colab": {
          "base_uri": "https://localhost:8080/",
          "height": 142
        },
        "id": "b9074e58-b4af-4a21-a503-a0c58621a7a3",
        "outputId": "8662b233-6818-4fa5-df8f-5897d3e982f5"
      },
      "outputs": [
        {
          "output_type": "stream",
          "name": "stderr",
          "text": [
            "/usr/local/lib/python3.10/dist-packages/wikipedia/wikipedia.py:389: GuessedAtParserWarning: No parser was explicitly specified, so I'm using the best available HTML parser for this system (\"lxml\"). This usually isn't a problem, but if you run this code on another system, or in a different virtual environment, it may use a different parser and behave differently.\n",
            "\n",
            "The code that caused this warning is on line 389 of the file /usr/local/lib/python3.10/dist-packages/wikipedia/wikipedia.py. To get rid of this warning, pass the additional argument 'features=\"lxml\"' to the BeautifulSoup constructor.\n",
            "\n",
            "  lis = BeautifulSoup(html).find_all('li')\n"
          ]
        },
        {
          "output_type": "execute_result",
          "data": {
            "text/plain": [
              "'Isaac Newton was born on December 25, 1642.'"
            ],
            "application/vnd.google.colaboratory.intrinsic+json": {
              "type": "string"
            }
          },
          "metadata": {},
          "execution_count": 10
        }
      ],
      "source": [
        "answer_question_about(\"Isaac Newton\",\"When was he born?\")"
      ]
    }
  ],
  "metadata": {
    "kernelspec": {
      "display_name": "Python 3 (ipykernel)",
      "language": "python",
      "name": "python3"
    },
    "language_info": {
      "codemirror_mode": {
        "name": "ipython",
        "version": 3
      },
      "file_extension": ".py",
      "mimetype": "text/x-python",
      "name": "python",
      "nbconvert_exporter": "python",
      "pygments_lexer": "ipython3",
      "version": "3.9.12"
    },
    "colab": {
      "provenance": []
    }
  },
  "nbformat": 4,
  "nbformat_minor": 5
}