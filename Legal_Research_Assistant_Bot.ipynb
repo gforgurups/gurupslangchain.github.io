{
  "cells": [
    {
      "cell_type": "markdown",
      "id": "728f1747-b8fc-4d31-96c2-047fc83c079d",
      "metadata": {
        "id": "728f1747-b8fc-4d31-96c2-047fc83c079d"
      },
      "source": [
        "\n",
        "## Ask a Legal Research Assistant Bot about the US Constitution\n",
        "\n",
        "This Bot should do the following:\n",
        "\n",
        "* Read the US_Constitution.txt file inside the some_data folder\n",
        "* Split this into chunks (you choose the size)\n",
        "* Write this to a ChromaDB Vector Store\n",
        "* Use Context Compression to return the relevant portion of the document to the question"
      ]
    },
    {
      "cell_type": "code",
      "source": [
        "!pip install openai\n",
        "!pip install --upgrade langchain\n",
        "!pip install wikipedia\n",
        "!pip install chromadb\n",
        "!pip install tiktoken"
      ],
      "metadata": {
        "id": "YT9W75VWqjtB"
      },
      "id": "YT9W75VWqjtB",
      "execution_count": null,
      "outputs": []
    },
    {
      "cell_type": "code",
      "execution_count": 8,
      "id": "3a17f111-e290-4ffc-b614-4d10e5673087",
      "metadata": {
        "id": "3a17f111-e290-4ffc-b614-4d10e5673087"
      },
      "outputs": [],
      "source": [
        "# Build a sample vectorDB\n",
        "from langchain.vectorstores import Chroma\n",
        "from langchain.chat_models import ChatOpenAI\n",
        "from langchain.document_loaders import TextLoader\n",
        "from langchain.embeddings.openai import OpenAIEmbeddings\n",
        "from langchain.text_splitter import CharacterTextSplitter\n",
        "from langchain.retrievers import ContextualCompressionRetriever\n",
        "from langchain.retrievers.document_compressors import LLMChainExtractor\n",
        "import os\n"
      ]
    },
    {
      "cell_type": "code",
      "execution_count": 5,
      "id": "dc7dafe9-7e3b-4bb5-abeb-4c99b66f623b",
      "metadata": {
        "id": "dc7dafe9-7e3b-4bb5-abeb-4c99b66f623b"
      },
      "outputs": [],
      "source": [
        "def us_constitution_helper(question):\n",
        "    '''\n",
        "    Takes in a question about the US Constitution and returns the most relevant\n",
        "    part of the constitution. Notice it may not directly answer the actual question!\n",
        "\n",
        "    Follow the steps below to fill out this function:\n",
        "    '''\n",
        "    # PART ONE:\n",
        "    # LOAD \"some_data/US_Constitution in a Document object\n",
        "    loader = TextLoader(\"sample_data/US_Constitution.txt\")\n",
        "    documents = loader.load()\n",
        "\n",
        "     # PART TWO\n",
        "     # Split the document into chunks (you choose how and what size)\n",
        "    splitter = CharacterTextSplitter.from_tiktoken_encoder(chunk_size=500)\n",
        "    docs = splitter.split_documents(documents)\n",
        "\n",
        "     # PART THREE\n",
        "     # EMBED THE Documents (now in chunks) to a persisted Chroma\n",
        "    embedding = OpenAIEmbeddings()\n",
        "    db = Chroma.from_documents(docs, embedding, persist_directory=\"./legal_db\")\n",
        "\n",
        "    # PART FOUR\n",
        "    # Use ChatOpenAI and ContextualCompressionRetriever to return the most\n",
        "    # relevant part of the documents.\n",
        "    chatllm = ChatOpenAI()\n",
        "    compressor = LLMChainExtractor.from_llm(llm=chatllm)\n",
        "    context_retrieve_compressor = ContextualCompressionRetriever(base_compressor= compressor,\n",
        "    base_retriever=db.as_retriever())\n",
        "\n",
        "    # PART FIVE\n",
        "    # Use Context Compression to return the relevant portion of the document to the question\n",
        "    # (you choose the size)\n",
        "    result = context_retrieve_compressor.get_relevant_documents(question)\n",
        "    return result[0].page_content\n"
      ]
    },
    {
      "cell_type": "markdown",
      "id": "e36c9e44-c166-4724-a1a9-98dfde0721d7",
      "metadata": {
        "id": "e36c9e44-c166-4724-a1a9-98dfde0721d7"
      },
      "source": [
        "## Example Usage:\n",
        "\n",
        "Notice how it doesn't return an entire Document of a large chunk size, but instead the \"compressed\" version!"
      ]
    },
    {
      "cell_type": "code",
      "execution_count": null,
      "id": "b6ca1a37-bc2f-49de-af25-22bc7437bff0",
      "metadata": {
        "id": "b6ca1a37-bc2f-49de-af25-22bc7437bff0",
        "outputId": "356c1d6a-8bf9-4678-c5de-e2f650ec326b"
      },
      "outputs": [
        {
          "name": "stdout",
          "output_type": "stream",
          "text": [
            "13th Amendment\n",
            "Section 1\n",
            "Neither slavery nor involuntary servitude, except as a punishment for crime whereof the party shall have been duly convicted, shall exist within the United States, or any place subject to their jurisdiction.\n"
          ]
        }
      ],
      "source": [
        "print(us_constitution_helper(\"What is the 13th Amendment?\"))"
      ]
    },
    {
      "cell_type": "code",
      "execution_count": null,
      "id": "225643e3-32ca-4cfe-ac96-e79c799c9cf5",
      "metadata": {
        "id": "225643e3-32ca-4cfe-ac96-e79c799c9cf5"
      },
      "outputs": [],
      "source": []
    }
  ],
  "metadata": {
    "kernelspec": {
      "display_name": "Python 3 (ipykernel)",
      "language": "python",
      "name": "python3"
    },
    "language_info": {
      "codemirror_mode": {
        "name": "ipython",
        "version": 3
      },
      "file_extension": ".py",
      "mimetype": "text/x-python",
      "name": "python",
      "nbconvert_exporter": "python",
      "pygments_lexer": "ipython3",
      "version": "3.9.12"
    },
    "colab": {
      "provenance": []
    }
  },
  "nbformat": 4,
  "nbformat_minor": 5
}