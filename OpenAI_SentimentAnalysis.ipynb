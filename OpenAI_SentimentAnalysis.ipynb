{
  "nbformat": 4,
  "nbformat_minor": 0,
  "metadata": {
    "colab": {
      "provenance": [],
      "authorship_tag": "ABX9TyP+XrNb5eyo3jcBhedD7T+W",
      "include_colab_link": true
    },
    "kernelspec": {
      "name": "python3",
      "display_name": "Python 3"
    },
    "language_info": {
      "name": "python"
    }
  },
  "cells": [
    {
      "cell_type": "markdown",
      "metadata": {
        "id": "view-in-github",
        "colab_type": "text"
      },
      "source": [
        "<a href=\"https://colab.research.google.com/github/gforgurups/gurupslangchain.github.io/blob/main/OpenAI_SentimentAnalysis.ipynb\" target=\"_parent\"><img src=\"https://colab.research.google.com/assets/colab-badge.svg\" alt=\"Open In Colab\"/></a>"
      ]
    },
    {
      "cell_type": "code",
      "execution_count": null,
      "metadata": {
        "id": "uZN5kxoxYt0P"
      },
      "outputs": [],
      "source": [
        "!pip install openai==0.28\n",
        "!pip install praw"
      ]
    },
    {
      "cell_type": "code",
      "source": [
        "import openai\n",
        "import os\n",
        "import praw"
      ],
      "metadata": {
        "id": "Jo3NsSiSY1Tn"
      },
      "execution_count": 2,
      "outputs": []
    },
    {
      "cell_type": "code",
      "source": [
        "openai.api_key=os.getenv(\"OPENAI_API_KEY\")\n",
        "client_id = os.getenv(\"client_id\")\n",
        "client_secret=os.getenv(\"client_secret\")"
      ],
      "metadata": {
        "id": "DjjuRBQH6s4e"
      },
      "execution_count": 4,
      "outputs": []
    },
    {
      "cell_type": "code",
      "source": [
        "reddit = praw.Reddit(client_id=client_id, client_secret=client_secret, user_agent=\"sentiment analysis test\")"
      ],
      "metadata": {
        "id": "hzr3UZbH8FXz"
      },
      "execution_count": 5,
      "outputs": []
    },
    {
      "cell_type": "code",
      "source": [
        "subreddit_stocks =  reddit.subreddit(\"stocks\")"
      ],
      "metadata": {
        "id": "7vezJ0Uo-oPw"
      },
      "execution_count": 6,
      "outputs": []
    },
    {
      "cell_type": "code",
      "source": [
        "for post in subreddit_stocks.hot(limit=5):\n",
        "  print(\"~~~~~~~~~~\")\n",
        "  print(post.title)\n",
        "  print(\"~~~~~~~~~~\")\n",
        "  submission = reddit.submission(post.id)\n",
        "  counter =0\n",
        "  for comment in submission.comments:\n",
        "    print(comment.body)\n",
        "    counter+=1\n",
        "    if(counter==2):\n",
        "      break"
      ],
      "metadata": {
        "id": "RGj-HRDdApMH"
      },
      "execution_count": null,
      "outputs": []
    },
    {
      "cell_type": "code",
      "source": [
        "def get_titles_and_comments(subreddit=\"stocks\", limit=6, num_comments=3,skip_first=2):\n",
        "  subreddit =  reddit.subreddit(subreddit)\n",
        "  title_and_comments={}\n",
        "  for counter, post in enumerate(subreddit.hot(limit=limit)):\n",
        "    if counter < skip_first:\n",
        "      continue\n",
        "    counter += (1-skip_first)\n",
        "    title_and_comments[counter]=\"\"\n",
        "    submission = reddit.submission(post.id)\n",
        "    title = post.title\n",
        "    title_and_comments[counter]+=\"Title:  \"+title+\"\\n\\n\"\n",
        "    title_and_comments[counter]+=\"Comments:  \\n\\n\"\n",
        "    comment_counter=0\n",
        "    for comment in submission.comments:\n",
        "      if not comment.body==\"[deleted]\":\n",
        "        title_and_comments[counter]+= comment.body+\"\\n\"\n",
        "        comment_counter+=1\n",
        "        if(comment_counter) == num_comments:\n",
        "          break\n",
        "  return title_and_comments\n"
      ],
      "metadata": {
        "id": "31wXQdp2eqFY"
      },
      "execution_count": 8,
      "outputs": []
    },
    {
      "cell_type": "code",
      "source": [
        "titles_and_comments = get_titles_and_comments()\n",
        "titles_and_comments"
      ],
      "metadata": {
        "colab": {
          "base_uri": "https://localhost:8080/"
        },
        "id": "XbPBH-FvhIFS",
        "outputId": "02b57c24-6f63-4dbb-f2c3-d517f63413fe"
      },
      "execution_count": 9,
      "outputs": [
        {
          "output_type": "stream",
          "name": "stderr",
          "text": [
            "WARNING:praw:It appears that you are using PRAW in an asynchronous environment.\n",
            "It is strongly recommended to use Async PRAW: https://asyncpraw.readthedocs.io.\n",
            "See https://praw.readthedocs.io/en/latest/getting_started/multiple_instances.html#discord-bots-and-asynchronous-environments for more info.\n",
            "\n",
            "WARNING:praw:It appears that you are using PRAW in an asynchronous environment.\n",
            "It is strongly recommended to use Async PRAW: https://asyncpraw.readthedocs.io.\n",
            "See https://praw.readthedocs.io/en/latest/getting_started/multiple_instances.html#discord-bots-and-asynchronous-environments for more info.\n",
            "\n",
            "WARNING:praw:It appears that you are using PRAW in an asynchronous environment.\n",
            "It is strongly recommended to use Async PRAW: https://asyncpraw.readthedocs.io.\n",
            "See https://praw.readthedocs.io/en/latest/getting_started/multiple_instances.html#discord-bots-and-asynchronous-environments for more info.\n",
            "\n",
            "WARNING:praw:It appears that you are using PRAW in an asynchronous environment.\n",
            "It is strongly recommended to use Async PRAW: https://asyncpraw.readthedocs.io.\n",
            "See https://praw.readthedocs.io/en/latest/getting_started/multiple_instances.html#discord-bots-and-asynchronous-environments for more info.\n",
            "\n",
            "WARNING:praw:It appears that you are using PRAW in an asynchronous environment.\n",
            "It is strongly recommended to use Async PRAW: https://asyncpraw.readthedocs.io.\n",
            "See https://praw.readthedocs.io/en/latest/getting_started/multiple_instances.html#discord-bots-and-asynchronous-environments for more info.\n",
            "\n"
          ]
        },
        {
          "output_type": "execute_result",
          "data": {
            "text/plain": [
              "{1: 'Title:  What are your mid-cap stocks for long-term investing?\\n\\nComments:  \\n\\nyou first.\\nORLY, AZO, DORM, CALM, WDFC, ALG, MYRG, PLXS, PRFT, HUBG, CPK.\\n\\nReasons: beautiful consistent growth on revenue, earnings, fcf, some pay some nice dividends too\\nSerious question:  what is a mid-cap?\\n\\n4bn to 10bn?\\n\\n2bn to 6bn?\\n\\nI ask this because when I go to vanguard small or mid value funds to check, I see companies with all sorts of market cap. \\n\\nThanks\\n',\n",
              " 2: \"Title:  Even Though QQQ works, it pisses me off\\n\\nComments:  \\n\\nQQQ just happens to do well because it just happens to be concentrated in big tech, and big tech just happens to have done well.\\n\\nInvesting in QQQ is either a choice play on big tech, or it's a lucky play on big tech. And either way, the future returns are highly uncertain.\\nNasdaq 100 is just like sp500 a winners list, largest market caps stay in, lozers drop out\\nDon’t invest in QQQ then. Maybe you want SPGP or OEM?\\n\",\n",
              " 3: \"Title:  Why can people not agree on Visa's(V) valuation?\\n\\nComments:  \\n\\nV/MA are very valuable companies. They form the infrastructure of the payments system, have huge moats and make gobs of money. \\n\\nHowever, the market knows this and has assigned a high price for the high quality earnings of those companies. \\n\\nThe fact that it has a high P/E ratio scares a lot of people. If you think it's justified, then it's cheap, or at least fair. If you think it's not justified, it's too expensive. \\n\\nPersonally, I think P/E in isolation tells you very little and you might want a more comprehensive look at the stock to evaluate it.\\nI personally find that PE only shows half of the truth. I rather pay a company with a higher PE but that has a strong track record of growth as well as an attractive projected future growth.\\n\\nA quick DCF on V shows me a fair value of $270 for a WAAC of 8%. So when it was at around $220-$240 it was nicely discounted in my opinion. But again, valuating a company isn't black&white and differs from person to person. So the above number is just what my conclusions are. Only time will tell if I made a good purchase.\\nWhat are you on about? It's agreed, Visa's stock price is 260.35.\\n\",\n",
              " 4: \"Title:  Stocks for shorting in 2024 -Would you?\\n\\nComments:  \\n\\nEveryone on stocks/investing hates to talk shorting, its dangerous/risky, but there's money in it if you get it right and can handle the stress.  I did really well shorting cloud software in 2021 into 2022.  I do shares and puts but ive never really made money on puts, the timing is too difficult.  Its not easy, I got beat on last year shorting and had to write down some losses.  \\n\\nI do think theres opportunity at these elevated levels on some hype stuff. \\n\\nI see MDB, DDOG, CRWD, SNOW, TEAM, SHOP, NOW and a couple others on my list.  Almost all are trading above 20 p/s. A downturn on customer software spending is going to hit these hard.  The bull side is that the bubble can keep going for a lot longer, possibly years.  I dont short biotech, small caps, or try to short anything headed for Bankruptcy because of the short squeeze potential.  Also, nothing with high short interest.  My 2 cents.\\nI don’t think shorting nvda will work.\\nHow to get rekt 2024 edition.\\n\"}"
            ]
          },
          "metadata": {},
          "execution_count": 9
        }
      ]
    },
    {
      "cell_type": "code",
      "source": [
        "def create_prompt(title_and_comments):\n",
        "  task=\"\"\"Return the stock ticker or company name mentioned in the following title and comments and classify the sentiment around the company as positive, negative or neutral.\n",
        "If no ticker or company is mentioned write 'No company mentioned'\\n\\n\"\"\"\n",
        "  return task+title_and_comments\n"
      ],
      "metadata": {
        "id": "MH04osfoigJH"
      },
      "execution_count": 15,
      "outputs": []
    },
    {
      "cell_type": "code",
      "source": [
        "print(create_prompt(titles_and_comments[1]))"
      ],
      "metadata": {
        "colab": {
          "base_uri": "https://localhost:8080/"
        },
        "id": "1tN4NtVvjtNO",
        "outputId": "5df3d487-4d5d-4042-ddcf-1620f07e63f8"
      },
      "execution_count": 16,
      "outputs": [
        {
          "output_type": "stream",
          "name": "stdout",
          "text": [
            "Return the stock ticker or company name mentioned in the following title and comments and classify the sentiment around the company as positive, negative or neutral.\n",
            "If no ticker or company is mentioned write 'No company mentioned'\n",
            "\n",
            "Title:  What are your mid-cap stocks for long-term investing?\n",
            "\n",
            "Comments:  \n",
            "\n",
            "you first.\n",
            "ORLY, AZO, DORM, CALM, WDFC, ALG, MYRG, PLXS, PRFT, HUBG, CPK.\n",
            "\n",
            "Reasons: beautiful consistent growth on revenue, earnings, fcf, some pay some nice dividends too\n",
            "Serious question:  what is a mid-cap?\n",
            "\n",
            "4bn to 10bn?\n",
            "\n",
            "2bn to 6bn?\n",
            "\n",
            "I ask this because when I go to vanguard small or mid value funds to check, I see companies with all sorts of market cap. \n",
            "\n",
            "Thanks\n",
            "\n"
          ]
        }
      ]
    },
    {
      "cell_type": "code",
      "source": [
        "for key, title_and_comments in titles_and_comments.items():\n",
        "  prompt = create_prompt(title_and_comments)\n",
        "  response = openai.Completion.create(\n",
        "    model='text-davinci-003',\n",
        "    prompt=prompt,\n",
        "    temperature=0,\n",
        "    max_tokens=256)\n",
        "  print(title_and_comments)\n",
        "  print(f\"Sentiment Report from OpenAI: {response.choices[0].text}\")\n",
        "  print(\"-----------------------------------\")\n"
      ],
      "metadata": {
        "colab": {
          "base_uri": "https://localhost:8080/",
          "height": 1000
        },
        "id": "UGEKxB1Fk0QY",
        "outputId": "fa40bf72-7461-48cd-ae71-fc72d24caef7"
      },
      "execution_count": 17,
      "outputs": [
        {
          "output_type": "stream",
          "name": "stdout",
          "text": [
            "Title:  What are your mid-cap stocks for long-term investing?\n",
            "\n",
            "Comments:  \n",
            "\n",
            "you first.\n",
            "ORLY, AZO, DORM, CALM, WDFC, ALG, MYRG, PLXS, PRFT, HUBG, CPK.\n",
            "\n",
            "Reasons: beautiful consistent growth on revenue, earnings, fcf, some pay some nice dividends too\n",
            "Serious question:  what is a mid-cap?\n",
            "\n",
            "4bn to 10bn?\n",
            "\n",
            "2bn to 6bn?\n",
            "\n",
            "I ask this because when I go to vanguard small or mid value funds to check, I see companies with all sorts of market cap. \n",
            "\n",
            "Thanks\n",
            "\n",
            "Sentiment Report from OpenAI: \n",
            "No company mentioned.\n",
            "-----------------------------------\n",
            "Title:  Even Though QQQ works, it pisses me off\n",
            "\n",
            "Comments:  \n",
            "\n",
            "QQQ just happens to do well because it just happens to be concentrated in big tech, and big tech just happens to have done well.\n",
            "\n",
            "Investing in QQQ is either a choice play on big tech, or it's a lucky play on big tech. And either way, the future returns are highly uncertain.\n",
            "Nasdaq 100 is just like sp500 a winners list, largest market caps stay in, lozers drop out\n",
            "Don’t invest in QQQ then. Maybe you want SPGP or OEM?\n",
            "\n",
            "Sentiment Report from OpenAI: \n",
            "Company: QQQ\n",
            "Sentiment: Negative\n",
            "-----------------------------------\n",
            "Title:  Why can people not agree on Visa's(V) valuation?\n",
            "\n",
            "Comments:  \n",
            "\n",
            "V/MA are very valuable companies. They form the infrastructure of the payments system, have huge moats and make gobs of money. \n",
            "\n",
            "However, the market knows this and has assigned a high price for the high quality earnings of those companies. \n",
            "\n",
            "The fact that it has a high P/E ratio scares a lot of people. If you think it's justified, then it's cheap, or at least fair. If you think it's not justified, it's too expensive. \n",
            "\n",
            "Personally, I think P/E in isolation tells you very little and you might want a more comprehensive look at the stock to evaluate it.\n",
            "I personally find that PE only shows half of the truth. I rather pay a company with a higher PE but that has a strong track record of growth as well as an attractive projected future growth.\n",
            "\n",
            "A quick DCF on V shows me a fair value of $270 for a WAAC of 8%. So when it was at around $220-$240 it was nicely discounted in my opinion. But again, valuating a company isn't black&white and differs from person to person. So the above number is just what my conclusions are. Only time will tell if I made a good purchase.\n",
            "What are you on about? It's agreed, Visa's stock price is 260.35.\n",
            "\n",
            "Sentiment Report from OpenAI: \n",
            "Company: Visa (V)\n",
            "Sentiment: Neutral\n",
            "-----------------------------------\n"
          ]
        },
        {
          "output_type": "error",
          "ename": "RateLimitError",
          "evalue": "ignored",
          "traceback": [
            "\u001b[0;31m---------------------------------------------------------------------------\u001b[0m",
            "\u001b[0;31mRateLimitError\u001b[0m                            Traceback (most recent call last)",
            "\u001b[0;32m<ipython-input-17-7f894bd6d2b1>\u001b[0m in \u001b[0;36m<cell line: 1>\u001b[0;34m()\u001b[0m\n\u001b[1;32m      1\u001b[0m \u001b[0;32mfor\u001b[0m \u001b[0mkey\u001b[0m\u001b[0;34m,\u001b[0m \u001b[0mtitle_and_comments\u001b[0m \u001b[0;32min\u001b[0m \u001b[0mtitles_and_comments\u001b[0m\u001b[0;34m.\u001b[0m\u001b[0mitems\u001b[0m\u001b[0;34m(\u001b[0m\u001b[0;34m)\u001b[0m\u001b[0;34m:\u001b[0m\u001b[0;34m\u001b[0m\u001b[0;34m\u001b[0m\u001b[0m\n\u001b[1;32m      2\u001b[0m   \u001b[0mprompt\u001b[0m \u001b[0;34m=\u001b[0m \u001b[0mcreate_prompt\u001b[0m\u001b[0;34m(\u001b[0m\u001b[0mtitle_and_comments\u001b[0m\u001b[0;34m)\u001b[0m\u001b[0;34m\u001b[0m\u001b[0;34m\u001b[0m\u001b[0m\n\u001b[0;32m----> 3\u001b[0;31m   response = openai.Completion.create(\n\u001b[0m\u001b[1;32m      4\u001b[0m     \u001b[0mmodel\u001b[0m\u001b[0;34m=\u001b[0m\u001b[0;34m'text-davinci-003'\u001b[0m\u001b[0;34m,\u001b[0m\u001b[0;34m\u001b[0m\u001b[0;34m\u001b[0m\u001b[0m\n\u001b[1;32m      5\u001b[0m     \u001b[0mprompt\u001b[0m\u001b[0;34m=\u001b[0m\u001b[0mprompt\u001b[0m\u001b[0;34m,\u001b[0m\u001b[0;34m\u001b[0m\u001b[0;34m\u001b[0m\u001b[0m\n",
            "\u001b[0;32m/usr/local/lib/python3.10/dist-packages/openai/api_resources/completion.py\u001b[0m in \u001b[0;36mcreate\u001b[0;34m(cls, *args, **kwargs)\u001b[0m\n\u001b[1;32m     23\u001b[0m         \u001b[0;32mwhile\u001b[0m \u001b[0;32mTrue\u001b[0m\u001b[0;34m:\u001b[0m\u001b[0;34m\u001b[0m\u001b[0;34m\u001b[0m\u001b[0m\n\u001b[1;32m     24\u001b[0m             \u001b[0;32mtry\u001b[0m\u001b[0;34m:\u001b[0m\u001b[0;34m\u001b[0m\u001b[0;34m\u001b[0m\u001b[0m\n\u001b[0;32m---> 25\u001b[0;31m                 \u001b[0;32mreturn\u001b[0m \u001b[0msuper\u001b[0m\u001b[0;34m(\u001b[0m\u001b[0;34m)\u001b[0m\u001b[0;34m.\u001b[0m\u001b[0mcreate\u001b[0m\u001b[0;34m(\u001b[0m\u001b[0;34m*\u001b[0m\u001b[0margs\u001b[0m\u001b[0;34m,\u001b[0m \u001b[0;34m**\u001b[0m\u001b[0mkwargs\u001b[0m\u001b[0;34m)\u001b[0m\u001b[0;34m\u001b[0m\u001b[0;34m\u001b[0m\u001b[0m\n\u001b[0m\u001b[1;32m     26\u001b[0m             \u001b[0;32mexcept\u001b[0m \u001b[0mTryAgain\u001b[0m \u001b[0;32mas\u001b[0m \u001b[0me\u001b[0m\u001b[0;34m:\u001b[0m\u001b[0;34m\u001b[0m\u001b[0;34m\u001b[0m\u001b[0m\n\u001b[1;32m     27\u001b[0m                 \u001b[0;32mif\u001b[0m \u001b[0mtimeout\u001b[0m \u001b[0;32mis\u001b[0m \u001b[0;32mnot\u001b[0m \u001b[0;32mNone\u001b[0m \u001b[0;32mand\u001b[0m \u001b[0mtime\u001b[0m\u001b[0;34m.\u001b[0m\u001b[0mtime\u001b[0m\u001b[0;34m(\u001b[0m\u001b[0;34m)\u001b[0m \u001b[0;34m>\u001b[0m \u001b[0mstart\u001b[0m \u001b[0;34m+\u001b[0m \u001b[0mtimeout\u001b[0m\u001b[0;34m:\u001b[0m\u001b[0;34m\u001b[0m\u001b[0;34m\u001b[0m\u001b[0m\n",
            "\u001b[0;32m/usr/local/lib/python3.10/dist-packages/openai/api_resources/abstract/engine_api_resource.py\u001b[0m in \u001b[0;36mcreate\u001b[0;34m(cls, api_key, api_base, api_type, request_id, api_version, organization, **params)\u001b[0m\n\u001b[1;32m    151\u001b[0m         )\n\u001b[1;32m    152\u001b[0m \u001b[0;34m\u001b[0m\u001b[0m\n\u001b[0;32m--> 153\u001b[0;31m         response, _, api_key = requestor.request(\n\u001b[0m\u001b[1;32m    154\u001b[0m             \u001b[0;34m\"post\"\u001b[0m\u001b[0;34m,\u001b[0m\u001b[0;34m\u001b[0m\u001b[0;34m\u001b[0m\u001b[0m\n\u001b[1;32m    155\u001b[0m             \u001b[0murl\u001b[0m\u001b[0;34m,\u001b[0m\u001b[0;34m\u001b[0m\u001b[0;34m\u001b[0m\u001b[0m\n",
            "\u001b[0;32m/usr/local/lib/python3.10/dist-packages/openai/api_requestor.py\u001b[0m in \u001b[0;36mrequest\u001b[0;34m(self, method, url, params, headers, files, stream, request_id, request_timeout)\u001b[0m\n\u001b[1;32m    296\u001b[0m             \u001b[0mrequest_timeout\u001b[0m\u001b[0;34m=\u001b[0m\u001b[0mrequest_timeout\u001b[0m\u001b[0;34m,\u001b[0m\u001b[0;34m\u001b[0m\u001b[0;34m\u001b[0m\u001b[0m\n\u001b[1;32m    297\u001b[0m         )\n\u001b[0;32m--> 298\u001b[0;31m         \u001b[0mresp\u001b[0m\u001b[0;34m,\u001b[0m \u001b[0mgot_stream\u001b[0m \u001b[0;34m=\u001b[0m \u001b[0mself\u001b[0m\u001b[0;34m.\u001b[0m\u001b[0m_interpret_response\u001b[0m\u001b[0;34m(\u001b[0m\u001b[0mresult\u001b[0m\u001b[0;34m,\u001b[0m \u001b[0mstream\u001b[0m\u001b[0;34m)\u001b[0m\u001b[0;34m\u001b[0m\u001b[0;34m\u001b[0m\u001b[0m\n\u001b[0m\u001b[1;32m    299\u001b[0m         \u001b[0;32mreturn\u001b[0m \u001b[0mresp\u001b[0m\u001b[0;34m,\u001b[0m \u001b[0mgot_stream\u001b[0m\u001b[0;34m,\u001b[0m \u001b[0mself\u001b[0m\u001b[0;34m.\u001b[0m\u001b[0mapi_key\u001b[0m\u001b[0;34m\u001b[0m\u001b[0;34m\u001b[0m\u001b[0m\n\u001b[1;32m    300\u001b[0m \u001b[0;34m\u001b[0m\u001b[0m\n",
            "\u001b[0;32m/usr/local/lib/python3.10/dist-packages/openai/api_requestor.py\u001b[0m in \u001b[0;36m_interpret_response\u001b[0;34m(self, result, stream)\u001b[0m\n\u001b[1;32m    698\u001b[0m         \u001b[0;32melse\u001b[0m\u001b[0;34m:\u001b[0m\u001b[0;34m\u001b[0m\u001b[0;34m\u001b[0m\u001b[0m\n\u001b[1;32m    699\u001b[0m             return (\n\u001b[0;32m--> 700\u001b[0;31m                 self._interpret_response_line(\n\u001b[0m\u001b[1;32m    701\u001b[0m                     \u001b[0mresult\u001b[0m\u001b[0;34m.\u001b[0m\u001b[0mcontent\u001b[0m\u001b[0;34m.\u001b[0m\u001b[0mdecode\u001b[0m\u001b[0;34m(\u001b[0m\u001b[0;34m\"utf-8\"\u001b[0m\u001b[0;34m)\u001b[0m\u001b[0;34m,\u001b[0m\u001b[0;34m\u001b[0m\u001b[0;34m\u001b[0m\u001b[0m\n\u001b[1;32m    702\u001b[0m                     \u001b[0mresult\u001b[0m\u001b[0;34m.\u001b[0m\u001b[0mstatus_code\u001b[0m\u001b[0;34m,\u001b[0m\u001b[0;34m\u001b[0m\u001b[0;34m\u001b[0m\u001b[0m\n",
            "\u001b[0;32m/usr/local/lib/python3.10/dist-packages/openai/api_requestor.py\u001b[0m in \u001b[0;36m_interpret_response_line\u001b[0;34m(self, rbody, rcode, rheaders, stream)\u001b[0m\n\u001b[1;32m    763\u001b[0m         \u001b[0mstream_error\u001b[0m \u001b[0;34m=\u001b[0m \u001b[0mstream\u001b[0m \u001b[0;32mand\u001b[0m \u001b[0;34m\"error\"\u001b[0m \u001b[0;32min\u001b[0m \u001b[0mresp\u001b[0m\u001b[0;34m.\u001b[0m\u001b[0mdata\u001b[0m\u001b[0;34m\u001b[0m\u001b[0;34m\u001b[0m\u001b[0m\n\u001b[1;32m    764\u001b[0m         \u001b[0;32mif\u001b[0m \u001b[0mstream_error\u001b[0m \u001b[0;32mor\u001b[0m \u001b[0;32mnot\u001b[0m \u001b[0;36m200\u001b[0m \u001b[0;34m<=\u001b[0m \u001b[0mrcode\u001b[0m \u001b[0;34m<\u001b[0m \u001b[0;36m300\u001b[0m\u001b[0;34m:\u001b[0m\u001b[0;34m\u001b[0m\u001b[0;34m\u001b[0m\u001b[0m\n\u001b[0;32m--> 765\u001b[0;31m             raise self.handle_error_response(\n\u001b[0m\u001b[1;32m    766\u001b[0m                 \u001b[0mrbody\u001b[0m\u001b[0;34m,\u001b[0m \u001b[0mrcode\u001b[0m\u001b[0;34m,\u001b[0m \u001b[0mresp\u001b[0m\u001b[0;34m.\u001b[0m\u001b[0mdata\u001b[0m\u001b[0;34m,\u001b[0m \u001b[0mrheaders\u001b[0m\u001b[0;34m,\u001b[0m \u001b[0mstream_error\u001b[0m\u001b[0;34m=\u001b[0m\u001b[0mstream_error\u001b[0m\u001b[0;34m\u001b[0m\u001b[0;34m\u001b[0m\u001b[0m\n\u001b[1;32m    767\u001b[0m             )\n",
            "\u001b[0;31mRateLimitError\u001b[0m: Rate limit reached for text-davinci-003 in organization org-9tGbKyaltWy7KDZdXeOoUc0h on requests per min (RPM): Limit 3, Used 3, Requested 1. Please try again in 20s. Visit https://platform.openai.com/account/rate-limits to learn more. You can increase your rate limit by adding a payment method to your account at https://platform.openai.com/account/billing."
          ]
        }
      ]
    }
  ]
}